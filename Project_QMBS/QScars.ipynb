{
 "cells": [
  {
   "cell_type": "markdown",
   "metadata": {
    "pycharm": {
     "name": "#%% md\n"
    }
   },
   "source": [
    "# Multi-tower quantum many-body scars in the PXP model"
   ]
  },
  {
   "cell_type": "code",
   "execution_count": 1,
   "metadata": {
    "collapsed": false,
    "jupyter": {
     "outputs_hidden": false
    },
    "pycharm": {
     "name": "#%%\n"
    }
   },
   "outputs": [],
   "source": [
    "from tqdm.notebook import tqdm\n",
    "import qutip as qt\n",
    "import numpy as np\n",
    "from importlib import reload\n",
    "import scipy.sparse\n",
    "\n",
    "import qims as qims\n",
    "from matplotlib import pyplot as plt\n"
   ]
  },
  {
   "cell_type": "code",
   "execution_count": 5,
   "metadata": {
    "collapsed": false,
    "jupyter": {
     "outputs_hidden": false
    },
    "pycharm": {
     "name": "#%%\n"
    }
   },
   "outputs": [
    {
     "data": {
      "application/vnd.jupyter.widget-view+json": {
       "model_id": "eb83dfbe466d4f7b89adc270777e6a7a",
       "version_major": 2,
       "version_minor": 0
      },
      "text/plain": [
       "  0%|          | 0/1024 [00:00<?, ?it/s]"
      ]
     },
     "metadata": {},
     "output_type": "display_data"
    },
    {
     "name": "stdout",
     "output_type": "stream",
     "text": [
      "CPU times: user 58.1 ms, sys: 163 µs, total: 58.3 ms\n",
      "Wall time: 55 ms\n"
     ]
    },
    {
     "data": {
      "application/vnd.jupyter.widget-view+json": {
       "model_id": "eb392806ba874e879751aea3d06665cd",
       "version_major": 2,
       "version_minor": 0
      },
      "text/plain": [
       "  0%|          | 0/10 [00:00<?, ?it/s]"
      ]
     },
     "metadata": {},
     "output_type": "display_data"
    },
    {
     "name": "stdout",
     "output_type": "stream",
     "text": [
      "Setup momentum basis\n"
     ]
    },
    {
     "data": {
      "application/vnd.jupyter.widget-view+json": {
       "model_id": "54a84aa802164725866ef73999688a14",
       "version_major": 2,
       "version_minor": 0
      },
      "text/plain": [
       "  0%|          | 0/15 [00:00<?, ?it/s]"
      ]
     },
     "metadata": {},
     "output_type": "display_data"
    },
    {
     "name": "stdout",
     "output_type": "stream",
     "text": [
      "Calculating k-basis transformations\n"
     ]
    },
    {
     "data": {
      "application/vnd.jupyter.widget-view+json": {
       "model_id": "005fc53d37aa4ae9877b0625a920d874",
       "version_major": 2,
       "version_minor": 0
      },
      "text/plain": [
       "  0%|          | 0/10 [00:00<?, ?it/s]"
      ]
     },
     "metadata": {},
     "output_type": "display_data"
    },
    {
     "name": "stdout",
     "output_type": "stream",
     "text": [
      "Calculate momentum Hamiltonians\n"
     ]
    },
    {
     "data": {
      "application/vnd.jupyter.widget-view+json": {
       "model_id": "dc0474bfd3f143a0b0d9e7cf1352f7f8",
       "version_major": 2,
       "version_minor": 0
      },
      "text/plain": [
       "  0%|          | 0/10 [00:00<?, ?it/s]"
      ]
     },
     "metadata": {},
     "output_type": "display_data"
    },
    {
     "name": "stdout",
     "output_type": "stream",
     "text": [
      "Run symmetry check:\n",
      " -> Passed: Hamiltonian is translationally invariant\n",
      "Run spectrum check:\n",
      " -> Passed: Spectra of full H and the H(k) match\n"
     ]
    }
   ],
   "source": [
    "reload(qims)\n",
    "Nx = 10\n",
    "%time bs, bs_ind = qims.basis(Nx, parallel = False)\n",
    "H = qims.pxp_hamiltonian(bs,bs_ind,Nx)\n",
    "SZ = qims.sz_neel(size = Nx, basis = bs)\n",
    "Hs, U = qims.Hk(hamiltonian = H, \n",
    "            basis = bs, \n",
    "            basis_ind = bs_ind, \n",
    "            size = Nx,\n",
    "            check_spect=True,\n",
    "            check_symm=True)"
   ]
  },
  {
   "cell_type": "code",
   "execution_count": 6,
   "metadata": {
    "collapsed": false,
    "jupyter": {
     "outputs_hidden": false
    },
    "pycharm": {
     "name": "#%%\n"
    }
   },
   "outputs": [
    {
     "data": {
      "application/vnd.jupyter.widget-view+json": {
       "model_id": "4fef9f2bcac547e18f6b6f77a9f5c619",
       "version_major": 2,
       "version_minor": 0
      },
      "text/plain": [
       "  0%|          | 0/10 [00:00<?, ?it/s]"
      ]
     },
     "metadata": {},
     "output_type": "display_data"
    },
    {
     "name": "stdout",
     "output_type": "stream",
     "text": [
      "0.0 7.5\n",
      "1.0 5.5\n",
      "2.0 6.5\n",
      "3.0 5.5\n",
      "4.0 6.5\n",
      "5.0 6.0\n",
      "6.0 6.5\n",
      "7.0 5.5\n",
      "8.0 6.5\n",
      "9.0 5.5\n"
     ]
    }
   ],
   "source": [
    "evecs = {}\n",
    "evals = {}\n",
    "k_list = np.arange(0, Nx) / Nx\n",
    "for k in tqdm(k_list):\n",
    "    # print()\n",
    "    print(k*Nx,Hs[k].shape[0]/2)\n",
    "    # evals_temp, evecs_temp = Hs[k].eigenstates()\n",
    "    # for n in range(len(evals_temp)):\n",
    "    #     evecs[k,n] = qt.Qobj(U[k])*evecs_temp[n]\n",
    "    #     # print(evals_temp[n]/2)\n",
    "    #     evals[k,n] = evals_temp[n]"
   ]
  },
  {
   "cell_type": "code",
   "execution_count": null,
   "metadata": {
    "collapsed": false,
    "jupyter": {
     "outputs_hidden": false
    },
    "pycharm": {
     "name": "#%%\n"
    }
   },
   "outputs": [],
   "source": [
    "qt.qsave(Hs, 'Momentum_Hamiltonians_26')"
   ]
  },
  {
   "cell_type": "code",
   "execution_count": 4,
   "metadata": {
    "pycharm": {
     "name": "#%%\n"
    }
   },
   "outputs": [],
   "source": [
    "qt.qsave(Hs, 'Momentum_Hamiltonians_26')"
   ]
  },
  {
   "cell_type": "code",
   "execution_count": 12,
   "metadata": {
    "pycharm": {
     "name": "#%%\n"
    }
   },
   "outputs": [],
   "source": [
    "def psi_t(t, psi_0, evecs, evals, Hs):\n",
    "    \n",
    "    sm = 0\n",
    "    for k in k_list:\n",
    "        for n in range(Hs[k].shape[0]):\n",
    "            sm = sm + np.exp(-1j*evals[k,n]*t)*(evecs[k,n]*psi_0.dag())*evecs[k,n]\n",
    "    return sm\n",
    "    "
   ]
  },
  {
   "cell_type": "code",
   "execution_count": 13,
   "metadata": {
    "pycharm": {
     "name": "#%%\n"
    }
   },
   "outputs": [
    {
     "data": {
      "application/vnd.jupyter.widget-view+json": {
       "model_id": "fbd878d658734f59a8777b5fc4ab8eb3",
       "version_major": 2,
       "version_minor": 0
      },
      "text/plain": [
       "  0%|          | 0/100 [00:00<?, ?it/s]"
      ]
     },
     "metadata": {},
     "output_type": "display_data"
    }
   ],
   "source": [
    "t_list = np.linspace(0,10,100)\n",
    "scan = []\n",
    "for t in tqdm(t_list):\n",
    "    st = psi_t(t,qt.basis(len(bs),len(bs)-1), evecs,evals,Hs)\n",
    "    scan.append(np.real((st.dag()*SZ*st).full()[0,0]))"
   ]
  },
  {
   "cell_type": "code",
   "execution_count": 14,
   "metadata": {
    "pycharm": {
     "name": "#%%\n"
    }
   },
   "outputs": [
    {
     "data": {
      "text/plain": [
       "[<matplotlib.lines.Line2D at 0x7f5fb18a3910>]"
      ]
     },
     "execution_count": 14,
     "metadata": {},
     "output_type": "execute_result"
    },
    {
     "data": {
      "image/png": "[encoded data removed]",
      "text/plain": [
       "<Figure size 432x288 with 1 Axes>"
      ]
     },
     "metadata": {
      "needs_background": "light"
     },
     "output_type": "display_data"
    }
   ],
   "source": [
    "plt.plot(t_list,scan)"
   ]
  }
 ],
 "metadata": {
  "kernelspec": {
   "display_name": "Python 3 (ipykernel)",
   "language": "python",
   "name": "python3"
  },
  "language_info": {
   "codemirror_mode": {
    "name": "ipython",
    "version": 3
   },
   "file_extension": ".py",
   "mimetype": "text/x-python",
   "name": "python",
   "nbconvert_exporter": "python",
   "pygments_lexer": "ipython3",
   "version": "3.10.5"
  }
 },
 "nbformat": 4,
 "nbformat_minor": 4
}