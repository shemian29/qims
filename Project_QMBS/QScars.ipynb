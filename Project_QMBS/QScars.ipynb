{
 "cells": [
  {
   "cell_type": "markdown",
   "metadata": {
    "pycharm": {
     "name": "#%% md\n"
    }
   },
   "source": [
    "# Multi-tower quantum many-body scars in the PXP model"
   ]
  },
  {
   "cell_type": "code",
   "execution_count": 1,
   "metadata": {
    "collapsed": false,
    "jupyter": {
     "outputs_hidden": false
    },
    "pycharm": {
     "name": "#%%\n"
    }
   },
   "outputs": [],
   "source": [
    "from tqdm.notebook import tqdm\n",
    "import qutip as qt\n",
    "import numpy as np\n",
    "from importlib import reload\n",
    "import scipy.sparse\n",
    "import scipy as scp\n",
    "\n",
    "import qims as qims\n",
    "from matplotlib import pyplot as plt\n"
   ]
  },
  {
   "cell_type": "markdown",
   "source": [
    "## Setup of PXP model"
   ],
   "metadata": {
    "collapsed": false,
    "pycharm": {
     "name": "#%% md\n"
    }
   }
  },
  {
   "cell_type": "code",
   "execution_count": null,
   "outputs": [],
   "source": [
    "#System size\n",
    "Nx = 12\n",
    "eta = 0.636\n",
    "print(\"-> Basis for full system\")\n",
    "bs, bs_ind = qims.basis(Nx, parallel = False)\n",
    "print()\n",
    "\n",
    "print(\"-> Generate PXP operators\")\n",
    "Sx, Sy, Sz, S2 = qims.pxp_operators(bs,bs_ind,Nx)\n",
    "h = qims.pxp_hamiltonian(bs,bs_ind,Nx)\n",
    "\n",
    "print((Sx-h/(2*eta)).norm())"
   ],
   "metadata": {
    "collapsed": false,
    "pycharm": {
     "name": "#%%\n"
    }
   }
  },
  {
   "cell_type": "markdown",
   "source": [
    "## Use of translational invariance"
   ],
   "metadata": {
    "collapsed": false,
    "pycharm": {
     "name": "#%% md\n"
    }
   }
  },
  {
   "cell_type": "code",
   "execution_count": null,
   "outputs": [],
   "source": [
    "print(\"-> Generate momentum-space Hamiltonians and basis transformation\")\n",
    "Hs, U = qims.Hk(hamiltonian = Sx, \n",
    "            basis = bs, \n",
    "            basis_ind = bs_ind, \n",
    "            size = Nx,\n",
    "            check_spect=True,\n",
    "            check_symm=True)\n",
    "print()\n",
    "\n",
    "print(\"-> Calculate momentum eigenspectrum\")\n",
    "evals, evecs = qims.MomentumEigensystem(Hs, U, Nx)\n",
    "print()\n"
   ],
   "metadata": {
    "collapsed": false,
    "pycharm": {
     "name": "#%%\n"
    }
   }
  },
  {
   "cell_type": "code",
   "execution_count": null,
   "outputs": [],
   "source": [
    "v1=evecs_temp[0]\n",
    "v2=evecs_temp[1]"
   ],
   "metadata": {
    "collapsed": false,
    "pycharm": {
     "name": "#%%\n"
    }
   }
  },
  {
   "cell_type": "code",
   "execution_count": null,
   "outputs": [],
   "source": [
    "from scipy.sparse import hstack"
   ],
   "metadata": {
    "collapsed": false,
    "pycharm": {
     "name": "#%%\n"
    }
   }
  },
  {
   "cell_type": "code",
   "execution_count": null,
   "outputs": [],
   "source": [
    "evals_temp, evecs_temp = Hs[k_list[0]].eigenstates()\n",
    "\n",
    "zrs = evecs_temp[np.ix_(np.where(np.abs(evals_temp)<10**(-10))[0])]\n",
    "\n",
    "vtemp = zrs[0]\n",
    "for n in tqdm(range(1,len(zrs))):\n",
    "    \n",
    "    vtemp = hstack((vtemp, zrs[n].data))\n",
    "evecs_set = qt.Qobj(vtemp)"
   ],
   "metadata": {
    "collapsed": false,
    "pycharm": {
     "name": "#%%\n"
    }
   }
  },
  {
   "cell_type": "code",
   "execution_count": null,
   "outputs": [],
   "source": [
    "evecs_set"
   ],
   "metadata": {
    "collapsed": false,
    "pycharm": {
     "name": "#%%\n"
    }
   }
  },
  {
   "cell_type": "code",
   "execution_count": null,
   "outputs": [],
   "source": [
    "S2_proj = (qt.Qobj(U[k_list[0]])*evecs_set).dag()*S2*qt.Qobj(U[k_list[0]])*evecs_set"
   ],
   "metadata": {
    "collapsed": false,
    "pycharm": {
     "name": "#%%\n"
    }
   }
  },
  {
   "cell_type": "code",
   "execution_count": null,
   "outputs": [],
   "source": [
    "S2_proj.eigenstates()[1]"
   ],
   "metadata": {
    "collapsed": false,
    "pycharm": {
     "name": "#%%\n"
    }
   }
  },
  {
   "cell_type": "code",
   "execution_count": null,
   "outputs": [],
   "source": [
    "np.diag((evecs_set.dag()*Hs[k_list[0]]*evecs_set).full())-evals_temp"
   ],
   "metadata": {
    "collapsed": false,
    "pycharm": {
     "name": "#%%\n"
    }
   }
  },
  {
   "cell_type": "code",
   "execution_count": null,
   "outputs": [],
   "source": [
    "qt.Qobj(hstack((v1.data, v2.data))).full().T"
   ],
   "metadata": {
    "collapsed": false,
    "pycharm": {
     "name": "#%%\n"
    }
   }
  },
  {
   "cell_type": "code",
   "execution_count": null,
   "outputs": [],
   "source": [
    "v1.full().T[0],v2.full().T[0],"
   ],
   "metadata": {
    "collapsed": false,
    "pycharm": {
     "name": "#%%\n"
    }
   }
  },
  {
   "cell_type": "code",
   "execution_count": null,
   "outputs": [],
   "source": [
    "evals_temp, evecs_temp = Hs[k_list[0]].eigenstates()"
   ],
   "metadata": {
    "collapsed": false,
    "pycharm": {
     "name": "#%%\n"
    }
   }
  },
  {
   "cell_type": "code",
   "execution_count": null,
   "outputs": [],
   "source": [
    "evals_temp"
   ],
   "metadata": {
    "collapsed": false,
    "pycharm": {
     "name": "#%%\n"
    }
   }
  },
  {
   "cell_type": "code",
   "execution_count": null,
   "outputs": [],
   "source": [
    "zrs = evecs_temp[np.ix_(np.where(np.abs(evals_temp)<10**(-10))[0])]"
   ],
   "metadata": {
    "collapsed": false,
    "pycharm": {
     "name": "#%%\n"
    }
   }
  },
  {
   "cell_type": "code",
   "execution_count": null,
   "outputs": [],
   "source": [
    "zrs[2].dag()*S2*zrs[2]"
   ],
   "metadata": {
    "collapsed": false,
    "pycharm": {
     "name": "#%%\n"
    }
   }
  },
  {
   "cell_type": "code",
   "execution_count": null,
   "outputs": [],
   "source": [
    "evecs[k_list[0],1]"
   ],
   "metadata": {
    "collapsed": false,
    "pycharm": {
     "name": "#%%\n"
    }
   }
  },
  {
   "cell_type": "markdown",
   "source": [
    "# Towers"
   ],
   "metadata": {
    "collapsed": false,
    "pycharm": {
     "name": "#%% md\n"
    }
   }
  },
  {
   "cell_type": "code",
   "execution_count": null,
   "outputs": [],
   "source": [
    "k_list = np.arange(0, Nx) / Nx\n",
    "vs = qt.Qobj([evecs[k_list[0],n].full().T[0] for n in range(Hs[k_list[0]].shape[0])]).dag()\n",
    "vs2 = qt.Qobj([evecs[k_list[int(Nx/2)],n].full().T[0] for n in range(Hs[k_list[int(Nx/2)]].shape[0])]).dag()"
   ],
   "metadata": {
    "collapsed": false,
    "pycharm": {
     "name": "#%%\n"
    }
   }
  },
  {
   "cell_type": "code",
   "execution_count": null,
   "outputs": [],
   "source": [
    "np.sort(h.eigenenergies())"
   ],
   "metadata": {
    "collapsed": false,
    "pycharm": {
     "name": "#%%\n"
    }
   }
  },
  {
   "cell_type": "code",
   "execution_count": null,
   "outputs": [],
   "source": [
    "\n",
    "TP = (Sz+1j*Sy)/2\n",
    "# TP = (Sy+1j*Sz)/2\n",
    "plt.imshow(np.abs((vs.dag()*TP*vs2).full()))"
   ],
   "metadata": {
    "collapsed": false,
    "pycharm": {
     "name": "#%%\n"
    }
   }
  },
  {
   "cell_type": "code",
   "execution_count": null,
   "outputs": [],
   "source": [
    "plt.plot(np.abs((vs.dag()*TP*vs2).full())[0])"
   ],
   "metadata": {
    "collapsed": false,
    "pycharm": {
     "name": "#%%\n"
    }
   }
  },
  {
   "cell_type": "markdown",
   "source": [
    "## Entanglementget_data"
   ],
   "metadata": {
    "collapsed": false,
    "pycharm": {
     "name": "#%% md\n"
    }
   }
  },
  {
   "cell_type": "markdown",
   "source": [
    "### Obtain open boundary conditions basis for entanglement entropy calculation"
   ],
   "metadata": {
    "collapsed": false,
    "pycharm": {
     "name": "#%% md\n"
    }
   }
  },
  {
   "cell_type": "code",
   "execution_count": null,
   "outputs": [],
   "source": [
    "bsl, bsl_ind = qims.PartBasis(Nx)"
   ],
   "metadata": {
    "collapsed": false,
    "pycharm": {
     "name": "#%%\n"
    }
   }
  },
  {
   "cell_type": "markdown",
   "source": [
    "### Calculate entanglement entropy"
   ],
   "metadata": {
    "collapsed": false,
    "pycharm": {
     "name": "#%% md\n"
    }
   }
  },
  {
   "cell_type": "code",
   "execution_count": null,
   "outputs": [],
   "source": [
    "Hilbert_k_dims = {}\n",
    "k_list = np.arange(0, Nx) / Nx\n",
    "for K in k_list:\n",
    "    Hilbert_k_dims[K] = Hs[K].shape[0]\n",
    "S = qims.ent_entropy(Hilbert_k_dims,evecs, bs_ind, bsl, Nx)"
   ],
   "metadata": {
    "collapsed": false,
    "pycharm": {
     "name": "#%%\n"
    }
   }
  },
  {
   "cell_type": "code",
   "execution_count": 84,
   "metadata": {},
   "outputs": [],
   "source": [
    "S2_proj = (qt.Qobj(U[k_list[0]])*evecs_set).dag()*S2*qt.Qobj(U[k_list[0]])*evecs_set"
   ]
  },
  {
   "cell_type": "code",
   "execution_count": 88,
   "metadata": {},
   "outputs": [
    {
     "data": {
      "text/plain": [
       "array([Quantum object: dims = [[5], [1]], shape = (5, 1), type = ket\n",
       "       Qobj data =\n",
       "       [[-0.00179815]\n",
       "        [-0.36580202]\n",
       "        [ 0.39385982]\n",
       "        [-0.77593656]\n",
       "        [ 0.33012504]]                                              ,\n",
       "       Quantum object: dims = [[5], [1]], shape = (5, 1), type = ket\n",
       "       Qobj data =\n",
       "       [[-0.49389705]\n",
       "        [-0.55820869]\n",
       "        [ 0.0642458 ]\n",
       "        [ 0.01465865]\n",
       "        [-0.66342021]]                                              ,\n",
       "       Quantum object: dims = [[5], [1]], shape = (5, 1), type = ket\n",
       "       Qobj data =\n",
       "       [[ 0.78475076]\n",
       "        [-0.40645833]\n",
       "        [-0.35854726]\n",
       "        [-0.11106927]\n",
       "        [-0.27940179]]                                              ,\n",
       "       Quantum object: dims = [[5], [1]], shape = (5, 1), type = ket\n",
       "       Qobj data =\n",
       "       [[-0.37398944]\n",
       "        [-0.08253538]\n",
       "        [-0.841983  ]\n",
       "        [-0.27689883]\n",
       "        [ 0.26021428]]                                              ,\n",
       "       Quantum object: dims = [[5], [1]], shape = (5, 1), type = ket\n",
       "       Qobj data =\n",
       "       [[ 0.01898995]\n",
       "        [ 0.61852363]\n",
       "        [-0.05705623]\n",
       "        [-0.55560618]\n",
       "        [-0.55237148]]                                              ],\n",
       "      dtype=object)"
      ]
     },
     "execution_count": 88,
     "metadata": {},
     "output_type": "execute_result"
    }
   ],
   "source": [
    "S2_proj.eigenstates()[1]"
   ]
  },
  {
   "cell_type": "code",
   "execution_count": 61,
   "metadata": {
    "collapsed": true,
    "jupyter": {
     "outputs_hidden": true
    },
    "tags": []
   },
   "outputs": [
    {
     "data": {
      "text/plain": [
       "array([ 0.00000000e+00+0.j, -1.42108547e-14+0.j, -8.88178420e-16+0.j,\n",
       "       -4.44089210e-15+0.j, -1.77635684e-15+0.j,  4.21884749e-15+0.j,\n",
       "        1.11022302e-15+0.j,  4.21884749e-15+0.j, -7.99360578e-15+0.j,\n",
       "       -3.55271368e-15+0.j, -3.55271368e-15+0.j,  4.21884749e-15+0.j,\n",
       "       -1.33226763e-15+0.j,  8.25070234e-15+0.j,  9.90097050e-17+0.j,\n",
       "       -4.77300778e-17+0.j, -1.24141596e-15+0.j, -2.67074125e-15+0.j,\n",
       "        5.55111512e-16+0.j,  8.88178420e-16+0.j, -4.44089210e-16+0.j,\n",
       "       -3.99680289e-15+0.j,  0.00000000e+00+0.j,  4.44089210e-16+0.j,\n",
       "       -1.11022302e-15+0.j,  0.00000000e+00+0.j, -8.88178420e-16+0.j,\n",
       "       -4.44089210e-16+0.j, -2.22044605e-15+0.j, -2.66453526e-15+0.j,\n",
       "       -8.88178420e-16+0.j])"
      ]
     },
     "execution_count": 61,
     "metadata": {},
     "output_type": "execute_result"
    }
   ],
   "source": [
    "np.diag((evecs_set.dag()*Hs[k_list[0]]*evecs_set).full())-evals_temp"
   ]
  },
  {
   "cell_type": "code",
   "execution_count": 51,
   "metadata": {},
   "outputs": [
    {
     "data": {
      "text/plain": [
       "array([[-0.20737098+0.j,  0.43358303+0.j, -0.30397007+0.j,\n",
       "        -0.2496414 +0.j,  0.21548782+0.j, -0.26620287+0.j,\n",
       "        -0.25960619+0.j,  0.17387232+0.j,  0.17387232+0.j,\n",
       "        -0.18612528+0.j,  0.14455783+0.j,  0.18755289+0.j,\n",
       "         0.18755289+0.j, -0.15339823+0.j,  0.18064502+0.j,\n",
       "         0.15205573+0.j,  0.15205573+0.j, -0.12236031+0.j,\n",
       "        -0.12024903+0.j, -0.12236031+0.j,  0.09596742+0.j,\n",
       "        -0.10117673+0.j, -0.13510539+0.j, -0.10234315+0.j,\n",
       "        -0.09488936+0.j, -0.10234315+0.j,  0.11087314+0.j,\n",
       "         0.08322658+0.j, -0.03991689+0.j,  0.08096096+0.j,\n",
       "        -0.03749618+0.j],\n",
       "       [-0.12956052+0.j,  0.19336826+0.j,  0.01908064+0.j,\n",
       "        -0.18637536+0.j, -0.2107495 +0.j,  0.06969835+0.j,\n",
       "        -0.22029704+0.j,  0.13057326+0.j,  0.13057326+0.j,\n",
       "         0.0600013 +0.j,  0.06511093+0.j, -0.23891742+0.j,\n",
       "        -0.23891742+0.j,  0.3547502 +0.j,  0.15280102+0.j,\n",
       "         0.09274183+0.j,  0.09274183+0.j, -0.03926893+0.j,\n",
       "        -0.14497647+0.j, -0.03926893+0.j, -0.14086582+0.j,\n",
       "        -0.10406486+0.j,  0.35078439+0.j,  0.00081864+0.j,\n",
       "         0.25120115+0.j,  0.00081864+0.j, -0.44051841+0.j,\n",
       "        -0.05374111+0.j, -0.02518725+0.j,  0.09140076+0.j,\n",
       "         0.20870677+0.j]])"
      ]
     },
     "execution_count": 51,
     "metadata": {},
     "output_type": "execute_result"
    }
   ],
   "source": [
    "qt.Qobj(hstack((v1.data, v2.data))).full().T"
   ]
  },
  {
   "cell_type": "code",
   "execution_count": 44,
   "metadata": {},
   "outputs": [
    {
     "data": {
      "text/plain": [
       "(array([-0.20737098+0.j,  0.43358303+0.j, -0.30397007+0.j, -0.2496414 +0.j,\n",
       "         0.21548782+0.j, -0.26620287+0.j, -0.25960619+0.j,  0.17387232+0.j,\n",
       "         0.17387232+0.j, -0.18612528+0.j,  0.14455783+0.j,  0.18755289+0.j,\n",
       "         0.18755289+0.j, -0.15339823+0.j,  0.18064502+0.j,  0.15205573+0.j,\n",
       "         0.15205573+0.j, -0.12236031+0.j, -0.12024903+0.j, -0.12236031+0.j,\n",
       "         0.09596742+0.j, -0.10117673+0.j, -0.13510539+0.j, -0.10234315+0.j,\n",
       "        -0.09488936+0.j, -0.10234315+0.j,  0.11087314+0.j,  0.08322658+0.j,\n",
       "        -0.03991689+0.j,  0.08096096+0.j, -0.03749618+0.j]),\n",
       " array([-0.12956052+0.j,  0.19336826+0.j,  0.01908064+0.j, -0.18637536+0.j,\n",
       "        -0.2107495 +0.j,  0.06969835+0.j, -0.22029704+0.j,  0.13057326+0.j,\n",
       "         0.13057326+0.j,  0.0600013 +0.j,  0.06511093+0.j, -0.23891742+0.j,\n",
       "        -0.23891742+0.j,  0.3547502 +0.j,  0.15280102+0.j,  0.09274183+0.j,\n",
       "         0.09274183+0.j, -0.03926893+0.j, -0.14497647+0.j, -0.03926893+0.j,\n",
       "        -0.14086582+0.j, -0.10406486+0.j,  0.35078439+0.j,  0.00081864+0.j,\n",
       "         0.25120115+0.j,  0.00081864+0.j, -0.44051841+0.j, -0.05374111+0.j,\n",
       "        -0.02518725+0.j,  0.09140076+0.j,  0.20870677+0.j]))"
      ]
     },
     "execution_count": 44,
     "metadata": {},
     "output_type": "execute_result"
    }
   ],
   "source": [
    "v1.full().T[0],v2.full().T[0],"
   ]
  },
  {
   "cell_type": "code",
   "execution_count": 14,
   "metadata": {},
   "outputs": [],
   "source": [
    "evals_temp, evecs_temp = Hs[k_list[0]].eigenstates()"
   ]
  },
  {
   "cell_type": "code",
   "execution_count": 20,
   "metadata": {},
   "outputs": [
    {
     "data": {
      "text/plain": [
       "array([-5.69413566e+00, -4.06458343e+00, -3.51811045e+00, -2.79715029e+00,\n",
       "       -2.09573790e+00, -1.95289822e+00, -1.75941309e+00, -1.37004262e+00,\n",
       "       -1.36167516e+00, -1.18652122e+00, -1.11180312e+00, -1.08844745e+00,\n",
       "       -6.12474375e-01, -8.25070234e-15, -9.90097050e-17,  4.77300778e-17,\n",
       "        1.24141596e-15,  2.67074125e-15,  6.12474375e-01,  1.08844745e+00,\n",
       "        1.11180312e+00,  1.18652122e+00,  1.36167516e+00,  1.37004262e+00,\n",
       "        1.75941309e+00,  1.95289822e+00,  2.09573790e+00,  2.79715029e+00,\n",
       "        3.51811045e+00,  4.06458343e+00,  5.69413566e+00])"
      ]
     },
     "execution_count": 20,
     "metadata": {},
     "output_type": "execute_result"
    }
   ],
   "source": [
    "evals_temp"
   ]
  },
  {
   "cell_type": "code",
   "execution_count": 26,
   "metadata": {},
   "outputs": [],
   "source": [
    "zrs = evecs_temp[np.ix_(np.where(np.abs(evals_temp)<10**(-10))[0])]"
   ]
  },
  {
   "cell_type": "code",
   "execution_count": 33,
   "metadata": {},
   "outputs": [
    {
     "data": {
      "text/latex": [
       "Quantum object: dims = [[1], [1]], shape = (1, 1), type = bra\\begin{equation*}\\left(\\begin{array}{*{11}c}0.0\\\\\\end{array}\\right)\\end{equation*}"
      ],
      "text/plain": [
       "Quantum object: dims = [[1], [1]], shape = (1, 1), type = bra\n",
       "Qobj data =\n",
       "[[0.]]"
      ]
     },
     "execution_count": 33,
     "metadata": {},
     "output_type": "execute_result"
    }
   ],
   "source": [
    "zrs[2].dag()*S2*zrs[2]"
   ]
  },
  {
   "cell_type": "code",
   "execution_count": 12,
   "metadata": {},
   "outputs": [
    {
     "data": {
      "text/latex": [
       "Quantum object: dims = [[322], [1]], shape = (322, 1), type = ket\\begin{equation*}\\left(\\begin{array}{*{11}c}-0.130\\\\0.056\\\\0.056\\\\0.056\\\\0.006\\\\\\vdots\\\\0.102\\\\-0.127\\\\-0.016\\\\-0.127\\\\0.148\\\\\\end{array}\\right)\\end{equation*}"
      ],
      "text/plain": [
       "Quantum object: dims = [[322], [1]], shape = (322, 1), type = ket\n",
       "Qobj data =\n",
       "[[-0.12956052]\n",
       " [ 0.05582061]\n",
       " [ 0.05582061]\n",
       " [ 0.05582061]\n",
       " [ 0.00550811]\n",
       " [ 0.05582061]\n",
       " [-0.05380193]\n",
       " [ 0.00550811]\n",
       " [ 0.05582061]\n",
       " [ 0.02012018]\n",
       " [-0.05380193]\n",
       " [ 0.00550811]\n",
       " [-0.06083814]\n",
       " [ 0.05582061]\n",
       " [-0.06359428]\n",
       " [ 0.02012018]\n",
       " [-0.05380193]\n",
       " [ 0.03769325]\n",
       " [ 0.00550811]\n",
       " [ 0.03769325]\n",
       " [-0.06083814]\n",
       " [ 0.05582061]\n",
       " [ 0.02449543]\n",
       " [-0.06359428]\n",
       " [ 0.02012018]\n",
       " [-0.06896952]\n",
       " [-0.05380193]\n",
       " [ 0.01879591]\n",
       " [ 0.03769325]\n",
       " [ 0.00550811]\n",
       " [-0.06896952]\n",
       " [ 0.03769325]\n",
       " [-0.06083814]\n",
       " [ 0.10240756]\n",
       " [ 0.05582061]\n",
       " [-0.06359428]\n",
       " [ 0.02449543]\n",
       " [-0.06359428]\n",
       " [ 0.04410986]\n",
       " [ 0.02012018]\n",
       " [ 0.02677226]\n",
       " [-0.06896952]\n",
       " [-0.05380193]\n",
       " [ 0.02677226]\n",
       " [ 0.01879591]\n",
       " [ 0.03769325]\n",
       " [-0.01133596]\n",
       " [ 0.00550811]\n",
       " [ 0.04410986]\n",
       " [-0.06896952]\n",
       " [ 0.03769325]\n",
       " [-0.0418511 ]\n",
       " [-0.06083814]\n",
       " [-0.01133596]\n",
       " [ 0.10240756]\n",
       " [ 0.05582061]\n",
       " [ 0.02012018]\n",
       " [-0.06359428]\n",
       " [ 0.02449543]\n",
       " [-0.06896952]\n",
       " [-0.06359428]\n",
       " [ 0.02677226]\n",
       " [ 0.04410986]\n",
       " [ 0.02012018]\n",
       " [-0.07043291]\n",
       " [ 0.02677226]\n",
       " [-0.06896952]\n",
       " [ 0.10126273]\n",
       " [-0.05380193]\n",
       " [ 0.02677226]\n",
       " [ 0.02677226]\n",
       " [ 0.01879591]\n",
       " [ 0.00023632]\n",
       " [ 0.03769325]\n",
       " [-0.03004094]\n",
       " [-0.01133596]\n",
       " [ 0.00550811]\n",
       " [-0.06896952]\n",
       " [ 0.04410986]\n",
       " [-0.06896952]\n",
       " [ 0.10255244]\n",
       " [ 0.03769325]\n",
       " [ 0.00023632]\n",
       " [-0.0418511 ]\n",
       " [-0.06083814]\n",
       " [ 0.10126273]\n",
       " [-0.01133596]\n",
       " [ 0.10240756]\n",
       " [-0.12716671]\n",
       " [ 0.05582061]\n",
       " [-0.05380193]\n",
       " [ 0.02012018]\n",
       " [-0.06359428]\n",
       " [ 0.03769325]\n",
       " [ 0.02449543]\n",
       " [ 0.01879591]\n",
       " [-0.06896952]\n",
       " [-0.06359428]\n",
       " [ 0.02677226]\n",
       " [ 0.02677226]\n",
       " [ 0.04410986]\n",
       " [-0.01133596]\n",
       " [ 0.02012018]\n",
       " [ 0.02677226]\n",
       " [-0.07043291]\n",
       " [ 0.02677226]\n",
       " [-0.03004094]\n",
       " [-0.06896952]\n",
       " [ 0.00023632]\n",
       " [ 0.10126273]\n",
       " [-0.05380193]\n",
       " [ 0.01879591]\n",
       " [ 0.02677226]\n",
       " [ 0.02677226]\n",
       " [ 0.00023632]\n",
       " [ 0.01879591]\n",
       " [-0.01454186]\n",
       " [ 0.00023632]\n",
       " [ 0.03769325]\n",
       " [ 0.00023632]\n",
       " [-0.03004094]\n",
       " [-0.01133596]\n",
       " [-0.01551372]\n",
       " [ 0.00550811]\n",
       " [ 0.03769325]\n",
       " [-0.06896952]\n",
       " [ 0.04410986]\n",
       " [-0.0418511 ]\n",
       " [-0.06896952]\n",
       " [ 0.00023632]\n",
       " [ 0.10255244]\n",
       " [ 0.03769325]\n",
       " [-0.03004094]\n",
       " [ 0.00023632]\n",
       " [-0.0418511 ]\n",
       " [ 0.02638513]\n",
       " [-0.06083814]\n",
       " [-0.01133596]\n",
       " [ 0.10126273]\n",
       " [-0.01133596]\n",
       " [ 0.02638513]\n",
       " [ 0.10240756]\n",
       " [-0.01551372]\n",
       " [-0.12716671]\n",
       " [ 0.05582061]\n",
       " [ 0.00550811]\n",
       " [-0.05380193]\n",
       " [ 0.02012018]\n",
       " [-0.06083814]\n",
       " [-0.06359428]\n",
       " [ 0.03769325]\n",
       " [ 0.03769325]\n",
       " [ 0.02449543]\n",
       " [-0.06896952]\n",
       " [ 0.01879591]\n",
       " [-0.06896952]\n",
       " [ 0.10240756]\n",
       " [-0.06359428]\n",
       " [ 0.04410986]\n",
       " [ 0.02677226]\n",
       " [ 0.02677226]\n",
       " [-0.01133596]\n",
       " [ 0.04410986]\n",
       " [-0.0418511 ]\n",
       " [-0.01133596]\n",
       " [ 0.02012018]\n",
       " [-0.06896952]\n",
       " [ 0.02677226]\n",
       " [-0.07043291]\n",
       " [ 0.10126273]\n",
       " [ 0.02677226]\n",
       " [ 0.00023632]\n",
       " [-0.03004094]\n",
       " [-0.06896952]\n",
       " [ 0.10255244]\n",
       " [ 0.00023632]\n",
       " [ 0.10126273]\n",
       " [-0.12716671]\n",
       " [-0.05380193]\n",
       " [ 0.03769325]\n",
       " [ 0.01879591]\n",
       " [ 0.02677226]\n",
       " [-0.01133596]\n",
       " [ 0.02677226]\n",
       " [-0.03004094]\n",
       " [ 0.00023632]\n",
       " [ 0.01879591]\n",
       " [ 0.00023632]\n",
       " [-0.01454186]\n",
       " [ 0.00023632]\n",
       " [-0.01551372]\n",
       " [ 0.03769325]\n",
       " [-0.0418511 ]\n",
       " [ 0.00023632]\n",
       " [-0.03004094]\n",
       " [ 0.02638513]\n",
       " [-0.01133596]\n",
       " [ 0.02638513]\n",
       " [-0.01551372]\n",
       " [ 0.00550811]\n",
       " [-0.06083814]\n",
       " [ 0.03769325]\n",
       " [-0.06896952]\n",
       " [ 0.10240756]\n",
       " [ 0.04410986]\n",
       " [-0.01133596]\n",
       " [-0.0418511 ]\n",
       " [-0.06896952]\n",
       " [ 0.10126273]\n",
       " [ 0.00023632]\n",
       " [ 0.10255244]\n",
       " [-0.12716671]\n",
       " [ 0.03769325]\n",
       " [-0.01133596]\n",
       " [-0.03004094]\n",
       " [ 0.00023632]\n",
       " [-0.01551372]\n",
       " [-0.0418511 ]\n",
       " [ 0.02638513]\n",
       " [ 0.02638513]\n",
       " [-0.06083814]\n",
       " [ 0.10240756]\n",
       " [-0.01133596]\n",
       " [ 0.10126273]\n",
       " [-0.12716671]\n",
       " [-0.01133596]\n",
       " [-0.01551372]\n",
       " [ 0.02638513]\n",
       " [ 0.10240756]\n",
       " [-0.12716671]\n",
       " [-0.01551372]\n",
       " [-0.12716671]\n",
       " [ 0.14757797]\n",
       " [ 0.05582061]\n",
       " [ 0.00550811]\n",
       " [-0.05380193]\n",
       " [ 0.02012018]\n",
       " [-0.06083814]\n",
       " [-0.06359428]\n",
       " [ 0.03769325]\n",
       " [ 0.03769325]\n",
       " [ 0.02449543]\n",
       " [-0.06896952]\n",
       " [ 0.01879591]\n",
       " [-0.06896952]\n",
       " [ 0.10240756]\n",
       " [-0.06359428]\n",
       " [ 0.04410986]\n",
       " [ 0.02677226]\n",
       " [ 0.02677226]\n",
       " [-0.01133596]\n",
       " [ 0.04410986]\n",
       " [-0.0418511 ]\n",
       " [-0.01133596]\n",
       " [ 0.02012018]\n",
       " [-0.06896952]\n",
       " [ 0.02677226]\n",
       " [-0.07043291]\n",
       " [ 0.10126273]\n",
       " [ 0.02677226]\n",
       " [ 0.00023632]\n",
       " [-0.03004094]\n",
       " [-0.06896952]\n",
       " [ 0.10255244]\n",
       " [ 0.00023632]\n",
       " [ 0.10126273]\n",
       " [-0.12716671]\n",
       " [-0.05380193]\n",
       " [ 0.03769325]\n",
       " [ 0.01879591]\n",
       " [ 0.02677226]\n",
       " [-0.01133596]\n",
       " [ 0.02677226]\n",
       " [-0.03004094]\n",
       " [ 0.00023632]\n",
       " [ 0.01879591]\n",
       " [ 0.00023632]\n",
       " [-0.01454186]\n",
       " [ 0.00023632]\n",
       " [-0.01551372]\n",
       " [ 0.03769325]\n",
       " [-0.0418511 ]\n",
       " [ 0.00023632]\n",
       " [-0.03004094]\n",
       " [ 0.02638513]\n",
       " [-0.01133596]\n",
       " [ 0.02638513]\n",
       " [-0.01551372]\n",
       " [ 0.00550811]\n",
       " [-0.06083814]\n",
       " [ 0.03769325]\n",
       " [-0.06896952]\n",
       " [ 0.10240756]\n",
       " [ 0.04410986]\n",
       " [-0.01133596]\n",
       " [-0.0418511 ]\n",
       " [-0.06896952]\n",
       " [ 0.10126273]\n",
       " [ 0.00023632]\n",
       " [ 0.10255244]\n",
       " [-0.12716671]\n",
       " [ 0.03769325]\n",
       " [-0.01133596]\n",
       " [-0.03004094]\n",
       " [ 0.00023632]\n",
       " [-0.01551372]\n",
       " [-0.0418511 ]\n",
       " [ 0.02638513]\n",
       " [ 0.02638513]\n",
       " [-0.06083814]\n",
       " [ 0.10240756]\n",
       " [-0.01133596]\n",
       " [ 0.10126273]\n",
       " [-0.12716671]\n",
       " [-0.01133596]\n",
       " [-0.01551372]\n",
       " [ 0.02638513]\n",
       " [ 0.10240756]\n",
       " [-0.12716671]\n",
       " [-0.01551372]\n",
       " [-0.12716671]\n",
       " [ 0.14757797]]"
      ]
     },
     "execution_count": 12,
     "metadata": {},
     "output_type": "execute_result"
    }
   ],
   "source": [
    "evecs[k_list[0],1]"
   ]
  },
  {
   "cell_type": "markdown",
   "metadata": {
    "pycharm": {
     "name": "#%% md\n"
    }
   },
   "source": [
    "# Towers"
   ]
  },
  {
   "cell_type": "code",
   "execution_count": 4,
   "metadata": {
    "pycharm": {
     "name": "#%%\n"
    },
    "tags": []
   },
   "outputs": [],
   "source": [
    "k_list = np.arange(0, Nx) / Nx\n",
    "vs = qt.Qobj([evecs[k_list[0],n].full().T[0] for n in range(Hs[k_list[0]].shape[0])]).dag()\n",
    "vs2 = qt.Qobj([evecs[k_list[int(Nx/2)],n].full().T[0] for n in range(Hs[k_list[int(Nx/2)]].shape[0])]).dag()"
   ]
  },
  {
   "cell_type": "code",
   "execution_count": 5,
   "metadata": {
    "collapsed": true,
    "jupyter": {
     "outputs_hidden": true
    },
    "pycharm": {
     "name": "#%%\n"
    },
    "tags": []
   },
   "outputs": [
    {
     "data": {
      "text/plain": [
       "array([-7.24294055e+00, -6.27437086e+00, -5.94212552e+00, -5.94212552e+00,\n",
       "       -5.36335387e+00, -5.36335387e+00, -5.17015012e+00, -4.91144121e+00,\n",
       "       -4.91144121e+00, -4.81869590e+00, -4.81869590e+00, -4.76737958e+00,\n",
       "       -4.76737958e+00, -4.47747730e+00, -4.47747730e+00, -4.47503650e+00,\n",
       "       -4.08114531e+00, -4.08114531e+00, -3.98960545e+00, -3.98960545e+00,\n",
       "       -3.95158759e+00, -3.73008729e+00, -3.73008729e+00, -3.69350502e+00,\n",
       "       -3.69350502e+00, -3.69326456e+00, -3.69326456e+00, -3.55797516e+00,\n",
       "       -3.54822057e+00, -3.54822057e+00, -3.52231332e+00, -3.52231332e+00,\n",
       "       -3.33283448e+00, -3.33283448e+00, -3.32718647e+00, -3.23608230e+00,\n",
       "       -3.23608230e+00, -3.11105359e+00, -3.11105359e+00, -3.01121265e+00,\n",
       "       -3.01121265e+00, -2.94676475e+00, -2.94676475e+00, -2.85475079e+00,\n",
       "       -2.79024488e+00, -2.70301167e+00, -2.70301167e+00, -2.69218397e+00,\n",
       "       -2.66577861e+00, -2.59694035e+00, -2.59694035e+00, -2.59010496e+00,\n",
       "       -2.59010496e+00, -2.57460801e+00, -2.57460801e+00, -2.49898529e+00,\n",
       "       -2.49898529e+00, -2.48490348e+00, -2.48408653e+00, -2.36797018e+00,\n",
       "       -2.36797018e+00, -2.30980198e+00, -2.30980198e+00, -2.28407147e+00,\n",
       "       -2.28407147e+00, -2.24229803e+00, -2.24229803e+00, -2.23797345e+00,\n",
       "       -2.22137971e+00, -2.22137971e+00, -2.15338778e+00, -2.15338778e+00,\n",
       "       -1.94146556e+00, -1.94146556e+00, -1.86504931e+00, -1.86504931e+00,\n",
       "       -1.82369558e+00, -1.82369558e+00, -1.80451034e+00, -1.80451034e+00,\n",
       "       -1.76332314e+00, -1.76332314e+00, -1.74390212e+00, -1.74269421e+00,\n",
       "       -1.73205081e+00, -1.61523223e+00, -1.61523223e+00, -1.50925499e+00,\n",
       "       -1.50594597e+00, -1.50594597e+00, -1.43942411e+00, -1.43942411e+00,\n",
       "       -1.41421356e+00, -1.38450516e+00, -1.37969590e+00, -1.37969590e+00,\n",
       "       -1.37722478e+00, -1.37722478e+00, -1.34631436e+00, -1.34631436e+00,\n",
       "       -1.34188114e+00, -1.31075414e+00, -1.31075414e+00, -1.25844537e+00,\n",
       "       -1.25844537e+00, -1.18106746e+00, -1.18106746e+00, -1.17676816e+00,\n",
       "       -1.17676816e+00, -1.14091230e+00, -1.13494367e+00, -1.13494367e+00,\n",
       "       -1.07649910e+00, -1.07649910e+00, -9.61637348e-01, -9.61637348e-01,\n",
       "       -9.28492300e-01, -9.28492300e-01, -9.16389394e-01, -9.16389394e-01,\n",
       "       -8.85901444e-01, -8.85901444e-01, -8.48071312e-01, -8.48071312e-01,\n",
       "       -8.25953973e-01, -8.21980912e-01, -7.79067405e-01, -7.06842524e-01,\n",
       "       -7.06842524e-01, -6.93545101e-01, -6.93545101e-01, -5.99106042e-01,\n",
       "       -5.99106042e-01, -4.86142365e-01, -4.86142365e-01, -4.66582482e-01,\n",
       "       -4.66582482e-01, -4.60792843e-01, -4.60792843e-01, -3.85937807e-01,\n",
       "       -3.85937807e-01, -3.46667388e-01, -3.46667388e-01, -3.27134911e-01,\n",
       "       -3.27134911e-01, -2.96672465e-01, -2.47247363e-01, -2.47247363e-01,\n",
       "       -1.96801730e-01, -1.96801730e-01, -1.74510953e-15, -1.68219283e-15,\n",
       "       -1.27118145e-15, -1.16443030e-15, -1.06745584e-15, -9.72716943e-16,\n",
       "       -9.58431346e-16, -8.37663182e-16, -4.37300571e-16, -4.05784599e-16,\n",
       "       -9.52860785e-17,  1.36648435e-16,  2.32039348e-16,  5.94085606e-16,\n",
       "        8.14261594e-16,  9.11943936e-16,  1.04915421e-15,  1.13342079e-15,\n",
       "        1.27713580e-15,  1.72352847e-15,  1.77150513e-15,  2.40489800e-15,\n",
       "        1.96801730e-01,  1.96801730e-01,  2.47247363e-01,  2.47247363e-01,\n",
       "        2.96672465e-01,  3.27134911e-01,  3.27134911e-01,  3.46667388e-01,\n",
       "        3.46667388e-01,  3.85937807e-01,  3.85937807e-01,  4.60792843e-01,\n",
       "        4.60792843e-01,  4.66582482e-01,  4.66582482e-01,  4.86142365e-01,\n",
       "        4.86142365e-01,  5.99106042e-01,  5.99106042e-01,  6.93545101e-01,\n",
       "        6.93545101e-01,  7.06842524e-01,  7.06842524e-01,  7.79067405e-01,\n",
       "        8.21980912e-01,  8.25953973e-01,  8.48071312e-01,  8.48071312e-01,\n",
       "        8.85901444e-01,  8.85901444e-01,  9.16389394e-01,  9.16389394e-01,\n",
       "        9.28492300e-01,  9.28492300e-01,  9.61637348e-01,  9.61637348e-01,\n",
       "        1.07649910e+00,  1.07649910e+00,  1.13494367e+00,  1.13494367e+00,\n",
       "        1.14091230e+00,  1.17676816e+00,  1.17676816e+00,  1.18106746e+00,\n",
       "        1.18106746e+00,  1.25844537e+00,  1.25844537e+00,  1.31075414e+00,\n",
       "        1.31075414e+00,  1.34188114e+00,  1.34631436e+00,  1.34631436e+00,\n",
       "        1.37722478e+00,  1.37722478e+00,  1.37969590e+00,  1.37969590e+00,\n",
       "        1.38450516e+00,  1.41421356e+00,  1.43942411e+00,  1.43942411e+00,\n",
       "        1.50594597e+00,  1.50594597e+00,  1.50925499e+00,  1.61523223e+00,\n",
       "        1.61523223e+00,  1.73205081e+00,  1.74269421e+00,  1.74390212e+00,\n",
       "        1.76332314e+00,  1.76332314e+00,  1.80451034e+00,  1.80451034e+00,\n",
       "        1.82369558e+00,  1.82369558e+00,  1.86504931e+00,  1.86504931e+00,\n",
       "        1.94146556e+00,  1.94146556e+00,  2.15338778e+00,  2.15338778e+00,\n",
       "        2.22137971e+00,  2.22137971e+00,  2.23797345e+00,  2.24229803e+00,\n",
       "        2.24229803e+00,  2.28407147e+00,  2.28407147e+00,  2.30980198e+00,\n",
       "        2.30980198e+00,  2.36797018e+00,  2.36797018e+00,  2.48408653e+00,\n",
       "        2.48490348e+00,  2.49898529e+00,  2.49898529e+00,  2.57460801e+00,\n",
       "        2.57460801e+00,  2.59010496e+00,  2.59010496e+00,  2.59694035e+00,\n",
       "        2.59694035e+00,  2.66577861e+00,  2.69218397e+00,  2.70301167e+00,\n",
       "        2.70301167e+00,  2.79024488e+00,  2.85475079e+00,  2.94676475e+00,\n",
       "        2.94676475e+00,  3.01121265e+00,  3.01121265e+00,  3.11105359e+00,\n",
       "        3.11105359e+00,  3.23608230e+00,  3.23608230e+00,  3.32718647e+00,\n",
       "        3.33283448e+00,  3.33283448e+00,  3.52231332e+00,  3.52231332e+00,\n",
       "        3.54822057e+00,  3.54822057e+00,  3.55797516e+00,  3.69326456e+00,\n",
       "        3.69326456e+00,  3.69350502e+00,  3.69350502e+00,  3.73008729e+00,\n",
       "        3.73008729e+00,  3.95158759e+00,  3.98960545e+00,  3.98960545e+00,\n",
       "        4.08114531e+00,  4.08114531e+00,  4.47503650e+00,  4.47747730e+00,\n",
       "        4.47747730e+00,  4.76737958e+00,  4.76737958e+00,  4.81869590e+00,\n",
       "        4.81869590e+00,  4.91144121e+00,  4.91144121e+00,  5.17015012e+00,\n",
       "        5.36335387e+00,  5.36335387e+00,  5.94212552e+00,  5.94212552e+00,\n",
       "        6.27437086e+00,  7.24294055e+00])"
      ]
     },
     "execution_count": 5,
     "metadata": {},
     "output_type": "execute_result"
    }
   ],
   "source": [
    "np.sort(h.eigenenergies())"
   ]
  },
  {
   "cell_type": "code",
   "execution_count": 5,
   "metadata": {
    "pycharm": {
     "name": "#%%\n"
    }
   },
   "outputs": [
    {
     "data": {
      "text/plain": [
       "<matplotlib.image.AxesImage at 0x7f5884d43460>"
      ]
     },
     "execution_count": 5,
     "metadata": {},
     "output_type": "execute_result"
    },
    {
     "data": {
      "image/png": "[encoded data removed]",
      "text/plain": [
       "<Figure size 432x288 with 1 Axes>"
      ]
     },
     "metadata": {
      "needs_background": "light"
     },
     "output_type": "display_data"
    }
   ],
   "source": [
    "\n",
    "TP = (Sz+1j*Sy)/2\n",
    "# TP = (Sy+1j*Sz)/2\n",
    "plt.imshow(np.abs((vs.dag()*TP*vs2).full()))"
   ]
  },
  {
   "cell_type": "code",
   "execution_count": 11,
   "metadata": {
    "pycharm": {
     "name": "#%%\n"
    }
   },
   "outputs": [
    {
     "data": {
      "text/plain": [
       "[<matplotlib.lines.Line2D at 0x7fa158762890>]"
      ]
     },
     "execution_count": 11,
     "metadata": {},
     "output_type": "execute_result"
    },
    {
     "data": {
      "image/png": "[encoded data removed]",
      "text/plain": [
       "<Figure size 432x288 with 1 Axes>"
      ]
     },
     "metadata": {
      "needs_background": "light"
     },
     "output_type": "display_data"
    }
   ],
   "source": [
    "plt.plot(np.abs((vs.dag()*TP*vs2).full())[0])"
   ]
  },
  {
   "cell_type": "markdown",
   "metadata": {
    "pycharm": {
     "name": "#%% md\n"
    }
   },
   "source": [
    "## Entanglementget_data"
   ]
  },
  {
   "cell_type": "markdown",
   "metadata": {
    "pycharm": {
     "name": "#%% md\n"
    }
   },
   "source": [
    "### Obtain open boundary conditions basis for entanglement entropy calculation"
   ]
  },
  {
   "cell_type": "code",
   "execution_count": 6,
   "metadata": {
    "pycharm": {
     "name": "#%%\n"
    }
   },
   "outputs": [
    {
     "data": {
      "application/vnd.jupyter.widget-view+json": {
       "model_id": "a833bf632d404b9e8ee1f98a008927a0",
       "version_major": 2,
       "version_minor": 0
      },
      "text/plain": [
       "  0%|          | 0/11 [00:00<?, ?it/s]"
      ]
     },
     "metadata": {},
     "output_type": "display_data"
    }
   ],
   "source": [
    "bsl, bsl_ind = qims.PartBasis(Nx)"
   ]
  },
  {
   "cell_type": "markdown",
   "metadata": {
    "pycharm": {
     "name": "#%% md\n"
    }
   },
   "source": [
    "### Calculate entanglement entropy"
   ]
  },
  {
   "cell_type": "code",
   "execution_count": 7,
   "metadata": {
    "pycharm": {
     "name": "#%%\n"
    }
   },
   "outputs": [
    {
     "name": "stdout",
     "output_type": "stream",
     "text": [
      "Generating mapping between partial and full basis states for Schmidt decomposition:\n",
      "Evaluate entanglement entropy for each momentum, eigenstate and sub-system size:\n"
     ]
    },
    {
     "data": {
      "application/vnd.jupyter.widget-view+json": {
       "model_id": "f066d27d55ae42129c74cc5e0243cdcf",
       "version_major": 2,
       "version_minor": 0
      },
      "text/plain": [
       "  0%|          | 0/12 [00:00<?, ?it/s]"
      ]
     },
     "metadata": {},
     "output_type": "display_data"
    }
   ],
   "source": [
    "Hilbert_k_dims = {}\n",
    "k_list = np.arange(0, Nx) / Nx\n",
    "for K in k_list:\n",
    "    Hilbert_k_dims[K] = Hs[K].shape[0]\n",
    "S = qims.ent_entropy(Hilbert_k_dims,evecs, bs_ind, bsl, Nx)"
   ]
  },
  {
   "cell_type": "markdown",
   "metadata": {
    "pycharm": {
     "name": "#%% md\n"
    }
   },
   "source": [
    "### Plot entanglement entropy"
   ]
  },
  {
   "cell_type": "code",
   "execution_count": 7,
   "metadata": {
    "pycharm": {
     "name": "#%%\n"
    }
   },
   "outputs": [
    {
     "data": {
      "image/png": "[encoded data removed]",
      "text/plain": [
       "<Figure size 432x288 with 1 Axes>"
      ]
     },
     "metadata": {
      "needs_background": "light"
     },
     "output_type": "display_data"
    }
   ],
   "source": [
    "for k in k_list:\n",
    "    for n in range(Hs[k].shape[0]): \n",
    "        plt.plot([evals[k,n]*0.826383 for n in range(Hs[k].shape[0])],\\\n",
    "                 [np.array(S[k,n,int(Nx/2)]) for n in range(Hs[k].shape[0])],'b.');"
   ]
  },
  {
   "cell_type": "markdown",
   "metadata": {
    "pycharm": {
     "name": "#%% md\n"
    }
   },
   "source": [
    "## Dynamics"
   ]
  },
  {
   "cell_type": "markdown",
   "metadata": {
    "pycharm": {
     "name": "#%% md\n"
    }
   },
   "source": [
    "### Operators"
   ]
  },
  {
   "cell_type": "code",
   "execution_count": 12,
   "metadata": {
    "pycharm": {
     "name": "#%%\n"
    }
   },
   "outputs": [],
   "source": [
    "SZ = qims.sz_neel(size = Nx, basis = bs)"
   ]
  },
  {
   "cell_type": "code",
   "execution_count": 13,
   "metadata": {
    "pycharm": {
     "name": "#%%\n"
    }
   },
   "outputs": [],
   "source": [
    "def psi_t(t, psi_0, evecs, evals, Hs):\n",
    "    \n",
    "    sm = 0\n",
    "    for k in k_list:\n",
    "        for n in range(Hs[k].shape[0]):\n",
    "            sm = sm + np.exp(-1j*evals[k,n]*t)*(evecs[k,n]*psi_0.dag())*evecs[k,n]\n",
    "    return sm\n",
    "    "
   ]
  },
  {
   "cell_type": "code",
   "execution_count": 234,
   "metadata": {
    "pycharm": {
     "name": "#%%\n"
    }
   },
   "outputs": [
    {
     "data": {
      "application/vnd.jupyter.widget-view+json": {
       "model_id": "4b11ea28d2e449078ab79330c128170d",
       "version_major": 2,
       "version_minor": 0
      },
      "text/plain": [
       "  0%|          | 0/101 [00:00<?, ?it/s]"
      ]
     },
     "metadata": {},
     "output_type": "display_data"
    }
   ],
   "source": [
    "t_list = np.linspace(0,10,100)\n",
    "scan = []\n",
    "for t in tqdm(tlist):\n",
    "    st = psi_t(t,qt.basis(len(bs),len(bs)-1), evecs,evals,Hs)\n",
    "    scan.append(np.real((st.dag()*Sz*st).full()[0,0]))"
   ]
  },
  {
   "cell_type": "code",
   "execution_count": 237,
   "metadata": {
    "pycharm": {
     "name": "#%%\n"
    }
   },
   "outputs": [
    {
     "data": {
      "text/plain": [
       "[<matplotlib.lines.Line2D at 0x7fc6d8f80e80>]"
      ]
     },
     "execution_count": 237,
     "metadata": {},
     "output_type": "execute_result"
    },
    {
     "data": {
      "application/pdf": "[encoded data removed]",
      "image/svg+xml": [
       "<?xml version=\"1.0\" encoding=\"utf-8\" standalone=\"no\"?>\n",
       "<!DOCTYPE svg PUBLIC \"-//W3C//DTD SVG 1.1//EN\"\n",
       "  \"http://www.w3.org/Graphics/SVG/1.1/DTD/svg11.dtd\">\n",
       "<svg xmlns:xlink=\"http://www.w3.org/1999/xlink\" width=\"370.942187pt\" height=\"248.518125pt\" viewBox=\"0 0 370.942187 248.518125\" xmlns=\"http://www.w3.org/2000/svg\" version=\"1.1\">\n",
       " <metadata>\n",
       "  <rdf:RDF xmlns:dc=\"http://purl.org/dc/elements/1.1/\" xmlns:cc=\"http://creativecommons.org/ns#\" xmlns:rdf=\"http://www.w3.org/1999/02/22-rdf-syntax-ns#\">\n",
       "   <cc:Work>\n",
       "    <dc:type rdf:resource=\"http://purl.org/dc/dcmitype/StillImage\"/>\n",
       "    <dc:date>2022-07-24T13:50:16.436688</dc:date>\n",
       "    <dc:format>image/svg+xml</dc:format>\n",
       "    <dc:creator>\n",
       "     <cc:Agent>\n",
       "      <dc:title>Matplotlib v3.5.2, https://matplotlib.org/</dc:title>\n",
       "     </cc:Agent>\n",
       "    </dc:creator>\n",
       "   </cc:Work>\n",
       "  </rdf:RDF>\n",
       " </metadata>\n",
       " <defs>\n",
       "  <style type=\"text/css\">*{stroke-linejoin: round; stroke-linecap: butt}</style>\n",
       " </defs>\n",
       " <g id=\"figure_1\">\n",
       "  <g id=\"patch_1\">\n",
       "   <path d=\"M 0 248.518125 \n",
       "L 370.942187 248.518125 \n",
       "L 370.942187 0 \n",
       "L 0 0 \n",
       "L 0 248.518125 \n",
       "z\n",
       "\" style=\"fill: none\"/>\n",
       "  </g>\n",
       "  <g id=\"axes_1\">\n",
       "   <g id=\"patch_2\">\n",
       "    <path d=\"M 28.942188 224.64 \n",
       "L 363.742188 224.64 \n",
       "L 363.742188 7.2 \n",
       "L 28.942188 7.2 \n",
       "z\n",
       "\" style=\"fill: #ffffff\"/>\n",
       "   </g>\n",
       "   <g id=\"matplotlib.axis_1\">\n",
       "    <g id=\"xtick_1\">\n",
       "     <g id=\"line2d_1\">\n",
       "      <defs>\n",
       "       <path id=\"md05c77a5d9\" d=\"M 0 0 \n",
       "L 0 3.5 \n",
       "\" style=\"stroke: #000000; stroke-width: 0.8\"/>\n",
       "      </defs>\n",
       "      <g>\n",
       "       <use xlink:href=\"#md05c77a5d9\" x=\"44.160369\" y=\"224.64\" style=\"stroke: #000000; stroke-width: 0.8\"/>\n",
       "      </g>\n",
       "     </g>\n",
       "     <g id=\"text_1\">\n",
       "      <!-- 0 -->\n",
       "      <g transform=\"translate(40.979119 239.238437)scale(0.1 -0.1)\">\n",
       "       <defs>\n",
       "        <path id=\"DejaVuSans-30\" d=\"M 2034 4250 \n",
       "Q 1547 4250 1301 3770 \n",
       "Q 1056 3291 1056 2328 \n",
       "Q 1056 1369 1301 889 \n",
       "Q 1547 409 2034 409 \n",
       "Q 2525 409 2770 889 \n",
       "Q 3016 1369 3016 2328 \n",
       "Q 3016 3291 2770 3770 \n",
       "Q 2525 4250 2034 4250 \n",
       "z\n",
       "M 2034 4750 \n",
       "Q 2819 4750 3233 4129 \n",
       "Q 3647 3509 3647 2328 \n",
       "Q 3647 1150 3233 529 \n",
       "Q 2819 -91 2034 -91 \n",
       "Q 1250 -91 836 529 \n",
       "Q 422 1150 422 2328 \n",
       "Q 422 3509 836 4129 \n",
       "Q 1250 4750 2034 4750 \n",
       "z\n",
       "\" transform=\"scale(0.015625)\"/>\n",
       "       </defs>\n",
       "       <use xlink:href=\"#DejaVuSans-30\"/>\n",
       "      </g>\n",
       "     </g>\n",
       "    </g>\n",
       "    <g id=\"xtick_2\">\n",
       "     <g id=\"line2d_2\">\n",
       "      <g>\n",
       "       <use xlink:href=\"#md05c77a5d9\" x=\"105.033097\" y=\"224.64\" style=\"stroke: #000000; stroke-width: 0.8\"/>\n",
       "      </g>\n",
       "     </g>\n",
       "     <g id=\"text_2\">\n",
       "      <!-- 2 -->\n",
       "      <g transform=\"translate(101.851847 239.238437)scale(0.1 -0.1)\">\n",
       "       <defs>\n",
       "        <path id=\"DejaVuSans-32\" d=\"M 1228 531 \n",
       "L 3431 531 \n",
       "L 3431 0 \n",
       "L 469 0 \n",
       "L 469 531 \n",
       "Q 828 903 1448 1529 \n",
       "Q 2069 2156 2228 2338 \n",
       "Q 2531 2678 2651 2914 \n",
       "Q 2772 3150 2772 3378 \n",
       "Q 2772 3750 2511 3984 \n",
       "Q 2250 4219 1831 4219 \n",
       "Q 1534 4219 1204 4116 \n",
       "Q 875 4013 500 3803 \n",
       "L 500 4441 \n",
       "Q 881 4594 1212 4672 \n",
       "Q 1544 4750 1819 4750 \n",
       "Q 2544 4750 2975 4387 \n",
       "Q 3406 4025 3406 3419 \n",
       "Q 3406 3131 3298 2873 \n",
       "Q 3191 2616 2906 2266 \n",
       "Q 2828 2175 2409 1742 \n",
       "Q 1991 1309 1228 531 \n",
       "z\n",
       "\" transform=\"scale(0.015625)\"/>\n",
       "       </defs>\n",
       "       <use xlink:href=\"#DejaVuSans-32\"/>\n",
       "      </g>\n",
       "     </g>\n",
       "    </g>\n",
       "    <g id=\"xtick_3\">\n",
       "     <g id=\"line2d_3\">\n",
       "      <g>\n",
       "       <use xlink:href=\"#md05c77a5d9\" x=\"165.905824\" y=\"224.64\" style=\"stroke: #000000; stroke-width: 0.8\"/>\n",
       "      </g>\n",
       "     </g>\n",
       "     <g id=\"text_3\">\n",
       "      <!-- 4 -->\n",
       "      <g transform=\"translate(162.724574 239.238437)scale(0.1 -0.1)\">\n",
       "       <defs>\n",
       "        <path id=\"DejaVuSans-34\" d=\"M 2419 4116 \n",
       "L 825 1625 \n",
       "L 2419 1625 \n",
       "L 2419 4116 \n",
       "z\n",
       "M 2253 4666 \n",
       "L 3047 4666 \n",
       "L 3047 1625 \n",
       "L 3713 1625 \n",
       "L 3713 1100 \n",
       "L 3047 1100 \n",
       "L 3047 0 \n",
       "L 2419 0 \n",
       "L 2419 1100 \n",
       "L 313 1100 \n",
       "L 313 1709 \n",
       "L 2253 4666 \n",
       "z\n",
       "\" transform=\"scale(0.015625)\"/>\n",
       "       </defs>\n",
       "       <use xlink:href=\"#DejaVuSans-34\"/>\n",
       "      </g>\n",
       "     </g>\n",
       "    </g>\n",
       "    <g id=\"xtick_4\">\n",
       "     <g id=\"line2d_4\">\n",
       "      <g>\n",
       "       <use xlink:href=\"#md05c77a5d9\" x=\"226.778551\" y=\"224.64\" style=\"stroke: #000000; stroke-width: 0.8\"/>\n",
       "      </g>\n",
       "     </g>\n",
       "     <g id=\"text_4\">\n",
       "      <!-- 6 -->\n",
       "      <g transform=\"translate(223.597301 239.238437)scale(0.1 -0.1)\">\n",
       "       <defs>\n",
       "        <path id=\"DejaVuSans-36\" d=\"M 2113 2584 \n",
       "Q 1688 2584 1439 2293 \n",
       "Q 1191 2003 1191 1497 \n",
       "Q 1191 994 1439 701 \n",
       "Q 1688 409 2113 409 \n",
       "Q 2538 409 2786 701 \n",
       "Q 3034 994 3034 1497 \n",
       "Q 3034 2003 2786 2293 \n",
       "Q 2538 2584 2113 2584 \n",
       "z\n",
       "M 3366 4563 \n",
       "L 3366 3988 \n",
       "Q 3128 4100 2886 4159 \n",
       "Q 2644 4219 2406 4219 \n",
       "Q 1781 4219 1451 3797 \n",
       "Q 1122 3375 1075 2522 \n",
       "Q 1259 2794 1537 2939 \n",
       "Q 1816 3084 2150 3084 \n",
       "Q 2853 3084 3261 2657 \n",
       "Q 3669 2231 3669 1497 \n",
       "Q 3669 778 3244 343 \n",
       "Q 2819 -91 2113 -91 \n",
       "Q 1303 -91 875 529 \n",
       "Q 447 1150 447 2328 \n",
       "Q 447 3434 972 4092 \n",
       "Q 1497 4750 2381 4750 \n",
       "Q 2619 4750 2861 4703 \n",
       "Q 3103 4656 3366 4563 \n",
       "z\n",
       "\" transform=\"scale(0.015625)\"/>\n",
       "       </defs>\n",
       "       <use xlink:href=\"#DejaVuSans-36\"/>\n",
       "      </g>\n",
       "     </g>\n",
       "    </g>\n",
       "    <g id=\"xtick_5\">\n",
       "     <g id=\"line2d_5\">\n",
       "      <g>\n",
       "       <use xlink:href=\"#md05c77a5d9\" x=\"287.651278\" y=\"224.64\" style=\"stroke: #000000; stroke-width: 0.8\"/>\n",
       "      </g>\n",
       "     </g>\n",
       "     <g id=\"text_5\">\n",
       "      <!-- 8 -->\n",
       "      <g transform=\"translate(284.470028 239.238437)scale(0.1 -0.1)\">\n",
       "       <defs>\n",
       "        <path id=\"DejaVuSans-38\" d=\"M 2034 2216 \n",
       "Q 1584 2216 1326 1975 \n",
       "Q 1069 1734 1069 1313 \n",
       "Q 1069 891 1326 650 \n",
       "Q 1584 409 2034 409 \n",
       "Q 2484 409 2743 651 \n",
       "Q 3003 894 3003 1313 \n",
       "Q 3003 1734 2745 1975 \n",
       "Q 2488 2216 2034 2216 \n",
       "z\n",
       "M 1403 2484 \n",
       "Q 997 2584 770 2862 \n",
       "Q 544 3141 544 3541 \n",
       "Q 544 4100 942 4425 \n",
       "Q 1341 4750 2034 4750 \n",
       "Q 2731 4750 3128 4425 \n",
       "Q 3525 4100 3525 3541 \n",
       "Q 3525 3141 3298 2862 \n",
       "Q 3072 2584 2669 2484 \n",
       "Q 3125 2378 3379 2068 \n",
       "Q 3634 1759 3634 1313 \n",
       "Q 3634 634 3220 271 \n",
       "Q 2806 -91 2034 -91 \n",
       "Q 1263 -91 848 271 \n",
       "Q 434 634 434 1313 \n",
       "Q 434 1759 690 2068 \n",
       "Q 947 2378 1403 2484 \n",
       "z\n",
       "M 1172 3481 \n",
       "Q 1172 3119 1398 2916 \n",
       "Q 1625 2713 2034 2713 \n",
       "Q 2441 2713 2670 2916 \n",
       "Q 2900 3119 2900 3481 \n",
       "Q 2900 3844 2670 4047 \n",
       "Q 2441 4250 2034 4250 \n",
       "Q 1625 4250 1398 4047 \n",
       "Q 1172 3844 1172 3481 \n",
       "z\n",
       "\" transform=\"scale(0.015625)\"/>\n",
       "       </defs>\n",
       "       <use xlink:href=\"#DejaVuSans-38\"/>\n",
       "      </g>\n",
       "     </g>\n",
       "    </g>\n",
       "    <g id=\"xtick_6\">\n",
       "     <g id=\"line2d_6\">\n",
       "      <g>\n",
       "       <use xlink:href=\"#md05c77a5d9\" x=\"348.524006\" y=\"224.64\" style=\"stroke: #000000; stroke-width: 0.8\"/>\n",
       "      </g>\n",
       "     </g>\n",
       "     <g id=\"text_6\">\n",
       "      <!-- 10 -->\n",
       "      <g transform=\"translate(342.161506 239.238437)scale(0.1 -0.1)\">\n",
       "       <defs>\n",
       "        <path id=\"DejaVuSans-31\" d=\"M 794 531 \n",
       "L 1825 531 \n",
       "L 1825 4091 \n",
       "L 703 3866 \n",
       "L 703 4441 \n",
       "L 1819 4666 \n",
       "L 2450 4666 \n",
       "L 2450 531 \n",
       "L 3481 531 \n",
       "L 3481 0 \n",
       "L 794 0 \n",
       "L 794 531 \n",
       "z\n",
       "\" transform=\"scale(0.015625)\"/>\n",
       "       </defs>\n",
       "       <use xlink:href=\"#DejaVuSans-31\"/>\n",
       "       <use xlink:href=\"#DejaVuSans-30\" x=\"63.623047\"/>\n",
       "      </g>\n",
       "     </g>\n",
       "    </g>\n",
       "   </g>\n",
       "   <g id=\"matplotlib.axis_2\">\n",
       "    <g id=\"ytick_1\">\n",
       "     <g id=\"line2d_7\">\n",
       "      <defs>\n",
       "       <path id=\"m66affbb84a\" d=\"M 0 0 \n",
       "L -3.5 0 \n",
       "\" style=\"stroke: #000000; stroke-width: 0.8\"/>\n",
       "      </defs>\n",
       "      <g>\n",
       "       <use xlink:href=\"#m66affbb84a\" x=\"28.942188\" y=\"218.022546\" style=\"stroke: #000000; stroke-width: 0.8\"/>\n",
       "      </g>\n",
       "     </g>\n",
       "     <g id=\"text_7\">\n",
       "      <!-- −6 -->\n",
       "      <g transform=\"translate(7.2 221.821764)scale(0.1 -0.1)\">\n",
       "       <defs>\n",
       "        <path id=\"DejaVuSans-2212\" d=\"M 678 2272 \n",
       "L 4684 2272 \n",
       "L 4684 1741 \n",
       "L 678 1741 \n",
       "L 678 2272 \n",
       "z\n",
       "\" transform=\"scale(0.015625)\"/>\n",
       "       </defs>\n",
       "       <use xlink:href=\"#DejaVuSans-2212\"/>\n",
       "       <use xlink:href=\"#DejaVuSans-36\" x=\"83.789062\"/>\n",
       "      </g>\n",
       "     </g>\n",
       "    </g>\n",
       "    <g id=\"ytick_2\">\n",
       "     <g id=\"line2d_8\">\n",
       "      <g>\n",
       "       <use xlink:href=\"#m66affbb84a\" x=\"28.942188\" y=\"184.532727\" style=\"stroke: #000000; stroke-width: 0.8\"/>\n",
       "      </g>\n",
       "     </g>\n",
       "     <g id=\"text_8\">\n",
       "      <!-- −4 -->\n",
       "      <g transform=\"translate(7.2 188.331946)scale(0.1 -0.1)\">\n",
       "       <use xlink:href=\"#DejaVuSans-2212\"/>\n",
       "       <use xlink:href=\"#DejaVuSans-34\" x=\"83.789062\"/>\n",
       "      </g>\n",
       "     </g>\n",
       "    </g>\n",
       "    <g id=\"ytick_3\">\n",
       "     <g id=\"line2d_9\">\n",
       "      <g>\n",
       "       <use xlink:href=\"#m66affbb84a\" x=\"28.942188\" y=\"151.042909\" style=\"stroke: #000000; stroke-width: 0.8\"/>\n",
       "      </g>\n",
       "     </g>\n",
       "     <g id=\"text_9\">\n",
       "      <!-- −2 -->\n",
       "      <g transform=\"translate(7.2 154.842128)scale(0.1 -0.1)\">\n",
       "       <use xlink:href=\"#DejaVuSans-2212\"/>\n",
       "       <use xlink:href=\"#DejaVuSans-32\" x=\"83.789062\"/>\n",
       "      </g>\n",
       "     </g>\n",
       "    </g>\n",
       "    <g id=\"ytick_4\">\n",
       "     <g id=\"line2d_10\">\n",
       "      <g>\n",
       "       <use xlink:href=\"#m66affbb84a\" x=\"28.942188\" y=\"117.553091\" style=\"stroke: #000000; stroke-width: 0.8\"/>\n",
       "      </g>\n",
       "     </g>\n",
       "     <g id=\"text_10\">\n",
       "      <!-- 0 -->\n",
       "      <g transform=\"translate(15.579688 121.35231)scale(0.1 -0.1)\">\n",
       "       <use xlink:href=\"#DejaVuSans-30\"/>\n",
       "      </g>\n",
       "     </g>\n",
       "    </g>\n",
       "    <g id=\"ytick_5\">\n",
       "     <g id=\"line2d_11\">\n",
       "      <g>\n",
       "       <use xlink:href=\"#m66affbb84a\" x=\"28.942188\" y=\"84.063273\" style=\"stroke: #000000; stroke-width: 0.8\"/>\n",
       "      </g>\n",
       "     </g>\n",
       "     <g id=\"text_11\">\n",
       "      <!-- 2 -->\n",
       "      <g transform=\"translate(15.579688 87.862492)scale(0.1 -0.1)\">\n",
       "       <use xlink:href=\"#DejaVuSans-32\"/>\n",
       "      </g>\n",
       "     </g>\n",
       "    </g>\n",
       "    <g id=\"ytick_6\">\n",
       "     <g id=\"line2d_12\">\n",
       "      <g>\n",
       "       <use xlink:href=\"#m66affbb84a\" x=\"28.942188\" y=\"50.573455\" style=\"stroke: #000000; stroke-width: 0.8\"/>\n",
       "      </g>\n",
       "     </g>\n",
       "     <g id=\"text_12\">\n",
       "      <!-- 4 -->\n",
       "      <g transform=\"translate(15.579688 54.372673)scale(0.1 -0.1)\">\n",
       "       <use xlink:href=\"#DejaVuSans-34\"/>\n",
       "      </g>\n",
       "     </g>\n",
       "    </g>\n",
       "    <g id=\"ytick_7\">\n",
       "     <g id=\"line2d_13\">\n",
       "      <g>\n",
       "       <use xlink:href=\"#m66affbb84a\" x=\"28.942188\" y=\"17.083636\" style=\"stroke: #000000; stroke-width: 0.8\"/>\n",
       "      </g>\n",
       "     </g>\n",
       "     <g id=\"text_13\">\n",
       "      <!-- 6 -->\n",
       "      <g transform=\"translate(15.579688 20.882855)scale(0.1 -0.1)\">\n",
       "       <use xlink:href=\"#DejaVuSans-36\"/>\n",
       "      </g>\n",
       "     </g>\n",
       "    </g>\n",
       "   </g>\n",
       "   <g id=\"line2d_14\">\n",
       "    <path d=\"M 44.160369 17.083636 \n",
       "L 47.204006 18.084993 \n",
       "L 50.247642 21.049539 \n",
       "L 53.291278 25.86259 \n",
       "L 56.334915 32.345469 \n",
       "L 59.378551 40.272498 \n",
       "L 62.422188 49.391574 \n",
       "L 65.465824 59.445607 \n",
       "L 68.50946 70.191925 \n",
       "L 71.553097 81.417037 \n",
       "L 74.596733 92.944815 \n",
       "L 77.640369 104.637148 \n",
       "L 80.684006 116.387337 \n",
       "L 83.727642 128.107672 \n",
       "L 86.771278 139.713621 \n",
       "L 89.814915 151.10764 \n",
       "L 92.858551 162.165693 \n",
       "L 95.902188 172.729082 \n",
       "L 98.945824 182.603301 \n",
       "L 101.98946 191.564415 \n",
       "L 105.033097 199.372236 \n",
       "L 108.076733 205.788442 \n",
       "L 111.120369 210.597082 \n",
       "L 114.164006 213.624563 \n",
       "L 117.207642 214.756364 \n",
       "L 120.251278 213.948288 \n",
       "L 123.294915 211.230843 \n",
       "L 126.338551 206.706323 \n",
       "L 129.382188 200.539127 \n",
       "L 132.425824 192.940693 \n",
       "L 135.46946 184.151083 \n",
       "L 138.513097 174.419627 \n",
       "L 141.556733 163.987134 \n",
       "L 144.600369 153.071904 \n",
       "L 147.644006 141.86123 \n",
       "L 150.687642 130.509281 \n",
       "L 153.731278 119.141243 \n",
       "L 156.774915 107.862662 \n",
       "L 159.818551 96.772033 \n",
       "L 162.862188 85.974128 \n",
       "L 165.905824 75.591452 \n",
       "L 168.94946 65.771475 \n",
       "L 171.993097 56.688059 \n",
       "L 175.036733 48.5365 \n",
       "L 178.080369 41.522737 \n",
       "L 181.124006 35.848268 \n",
       "L 184.167642 31.693039 \n",
       "L 187.211278 29.198862 \n",
       "L 190.254915 28.455773 \n",
       "L 193.298551 29.4932 \n",
       "L 196.342188 32.277016 \n",
       "L 199.385824 36.712647 \n",
       "L 202.42946 42.653563 \n",
       "L 205.473097 49.913772 \n",
       "L 208.516733 58.282552 \n",
       "L 211.560369 67.539435 \n",
       "L 214.604006 77.467618 \n",
       "L 217.647642 87.864252 \n",
       "L 220.691278 98.546573 \n",
       "L 223.734915 109.353484 \n",
       "L 226.778551 120.142814 \n",
       "L 229.822188 130.785188 \n",
       "L 232.865824 141.155936 \n",
       "L 235.90946 151.126829 \n",
       "L 238.953097 160.559481 \n",
       "L 241.996733 169.302009 \n",
       "L 245.040369 177.189973 \n",
       "L 248.084006 184.051878 \n",
       "L 251.127642 189.718636 \n",
       "L 254.171278 194.035652 \n",
       "L 257.214915 196.87565 \n",
       "L 260.258551 198.150202 \n",
       "L 263.302188 197.818126 \n",
       "L 266.345824 195.889478 \n",
       "L 269.38946 192.42465 \n",
       "L 272.433097 187.528889 \n",
       "L 275.476733 181.343289 \n",
       "L 278.520369 174.033787 \n",
       "L 281.564006 165.779846 \n",
       "L 284.607642 156.764413 \n",
       "L 287.651278 147.166323 \n",
       "L 290.694915 137.155857 \n",
       "L 293.738551 126.893545 \n",
       "L 296.782188 116.531825 \n",
       "L 299.825824 106.218732 \n",
       "L 302.86946 96.102529 \n",
       "L 305.913097 86.336053 \n",
       "L 308.956733 77.079596 \n",
       "L 312.000369 68.501358 \n",
       "L 315.044006 60.774842 \n",
       "L 318.087642 54.07306 \n",
       "L 321.131278 48.559983 \n",
       "L 324.174915 44.380193 \n",
       "L 327.218551 41.648165 \n",
       "L 330.262188 40.438803 \n",
       "L 333.305824 40.780829 \n",
       "L 336.34946 42.654197 \n",
       "L 339.393097 45.992138 \n",
       "L 342.436733 50.687602 \n",
       "L 345.480369 56.603115 \n",
       "L 348.524006 63.58246 \n",
       "\" clip-path=\"url(#pa8982039d3)\" style=\"fill: none; stroke: #016e82; stroke-width: 1.5; stroke-linecap: square\"/>\n",
       "    <defs>\n",
       "     <path id=\"m7fe814a7e0\" d=\"M 0 1.5 \n",
       "C 0.397805 1.5 0.77937 1.341951 1.06066 1.06066 \n",
       "C 1.341951 0.77937 1.5 0.397805 1.5 0 \n",
       "C 1.5 -0.397805 1.341951 -0.77937 1.06066 -1.06066 \n",
       "C 0.77937 -1.341951 0.397805 -1.5 0 -1.5 \n",
       "C -0.397805 -1.5 -0.77937 -1.341951 -1.06066 -1.06066 \n",
       "C -1.341951 -0.77937 -1.5 -0.397805 -1.5 0 \n",
       "C -1.5 0.397805 -1.341951 0.77937 -1.06066 1.06066 \n",
       "C -0.77937 1.341951 -0.397805 1.5 0 1.5 \n",
       "z\n",
       "\" style=\"stroke: #016e82\"/>\n",
       "    </defs>\n",
       "    <g clip-path=\"url(#pa8982039d3)\">\n",
       "     <use xlink:href=\"#m7fe814a7e0\" x=\"44.160369\" y=\"17.083636\" style=\"fill: #016e82; stroke: #016e82\"/>\n",
       "     <use xlink:href=\"#m7fe814a7e0\" x=\"47.204006\" y=\"18.084993\" style=\"fill: #016e82; stroke: #016e82\"/>\n",
       "     <use xlink:href=\"#m7fe814a7e0\" x=\"50.247642\" y=\"21.049539\" style=\"fill: #016e82; stroke: #016e82\"/>\n",
       "     <use xlink:href=\"#m7fe814a7e0\" x=\"53.291278\" y=\"25.86259\" style=\"fill: #016e82; stroke: #016e82\"/>\n",
       "     <use xlink:href=\"#m7fe814a7e0\" x=\"56.334915\" y=\"32.345469\" style=\"fill: #016e82; stroke: #016e82\"/>\n",
       "     <use xlink:href=\"#m7fe814a7e0\" x=\"59.378551\" y=\"40.272498\" style=\"fill: #016e82; stroke: #016e82\"/>\n",
       "     <use xlink:href=\"#m7fe814a7e0\" x=\"62.422188\" y=\"49.391574\" style=\"fill: #016e82; stroke: #016e82\"/>\n",
       "     <use xlink:href=\"#m7fe814a7e0\" x=\"65.465824\" y=\"59.445607\" style=\"fill: #016e82; stroke: #016e82\"/>\n",
       "     <use xlink:href=\"#m7fe814a7e0\" x=\"68.50946\" y=\"70.191925\" style=\"fill: #016e82; stroke: #016e82\"/>\n",
       "     <use xlink:href=\"#m7fe814a7e0\" x=\"71.553097\" y=\"81.417037\" style=\"fill: #016e82; stroke: #016e82\"/>\n",
       "     <use xlink:href=\"#m7fe814a7e0\" x=\"74.596733\" y=\"92.944815\" style=\"fill: #016e82; stroke: #016e82\"/>\n",
       "     <use xlink:href=\"#m7fe814a7e0\" x=\"77.640369\" y=\"104.637148\" style=\"fill: #016e82; stroke: #016e82\"/>\n",
       "     <use xlink:href=\"#m7fe814a7e0\" x=\"80.684006\" y=\"116.387337\" style=\"fill: #016e82; stroke: #016e82\"/>\n",
       "     <use xlink:href=\"#m7fe814a7e0\" x=\"83.727642\" y=\"128.107672\" style=\"fill: #016e82; stroke: #016e82\"/>\n",
       "     <use xlink:href=\"#m7fe814a7e0\" x=\"86.771278\" y=\"139.713621\" style=\"fill: #016e82; stroke: #016e82\"/>\n",
       "     <use xlink:href=\"#m7fe814a7e0\" x=\"89.814915\" y=\"151.10764\" style=\"fill: #016e82; stroke: #016e82\"/>\n",
       "     <use xlink:href=\"#m7fe814a7e0\" x=\"92.858551\" y=\"162.165693\" style=\"fill: #016e82; stroke: #016e82\"/>\n",
       "     <use xlink:href=\"#m7fe814a7e0\" x=\"95.902188\" y=\"172.729082\" style=\"fill: #016e82; stroke: #016e82\"/>\n",
       "     <use xlink:href=\"#m7fe814a7e0\" x=\"98.945824\" y=\"182.603301\" style=\"fill: #016e82; stroke: #016e82\"/>\n",
       "     <use xlink:href=\"#m7fe814a7e0\" x=\"101.98946\" y=\"191.564415\" style=\"fill: #016e82; stroke: #016e82\"/>\n",
       "     <use xlink:href=\"#m7fe814a7e0\" x=\"105.033097\" y=\"199.372236\" style=\"fill: #016e82; stroke: #016e82\"/>\n",
       "     <use xlink:href=\"#m7fe814a7e0\" x=\"108.076733\" y=\"205.788442\" style=\"fill: #016e82; stroke: #016e82\"/>\n",
       "     <use xlink:href=\"#m7fe814a7e0\" x=\"111.120369\" y=\"210.597082\" style=\"fill: #016e82; stroke: #016e82\"/>\n",
       "     <use xlink:href=\"#m7fe814a7e0\" x=\"114.164006\" y=\"213.624563\" style=\"fill: #016e82; stroke: #016e82\"/>\n",
       "     <use xlink:href=\"#m7fe814a7e0\" x=\"117.207642\" y=\"214.756364\" style=\"fill: #016e82; stroke: #016e82\"/>\n",
       "     <use xlink:href=\"#m7fe814a7e0\" x=\"120.251278\" y=\"213.948288\" style=\"fill: #016e82; stroke: #016e82\"/>\n",
       "     <use xlink:href=\"#m7fe814a7e0\" x=\"123.294915\" y=\"211.230843\" style=\"fill: #016e82; stroke: #016e82\"/>\n",
       "     <use xlink:href=\"#m7fe814a7e0\" x=\"126.338551\" y=\"206.706323\" style=\"fill: #016e82; stroke: #016e82\"/>\n",
       "     <use xlink:href=\"#m7fe814a7e0\" x=\"129.382188\" y=\"200.539127\" style=\"fill: #016e82; stroke: #016e82\"/>\n",
       "     <use xlink:href=\"#m7fe814a7e0\" x=\"132.425824\" y=\"192.940693\" style=\"fill: #016e82; stroke: #016e82\"/>\n",
       "     <use xlink:href=\"#m7fe814a7e0\" x=\"135.46946\" y=\"184.151083\" style=\"fill: #016e82; stroke: #016e82\"/>\n",
       "     <use xlink:href=\"#m7fe814a7e0\" x=\"138.513097\" y=\"174.419627\" style=\"fill: #016e82; stroke: #016e82\"/>\n",
       "     <use xlink:href=\"#m7fe814a7e0\" x=\"141.556733\" y=\"163.987134\" style=\"fill: #016e82; stroke: #016e82\"/>\n",
       "     <use xlink:href=\"#m7fe814a7e0\" x=\"144.600369\" y=\"153.071904\" style=\"fill: #016e82; stroke: #016e82\"/>\n",
       "     <use xlink:href=\"#m7fe814a7e0\" x=\"147.644006\" y=\"141.86123\" style=\"fill: #016e82; stroke: #016e82\"/>\n",
       "     <use xlink:href=\"#m7fe814a7e0\" x=\"150.687642\" y=\"130.509281\" style=\"fill: #016e82; stroke: #016e82\"/>\n",
       "     <use xlink:href=\"#m7fe814a7e0\" x=\"153.731278\" y=\"119.141243\" style=\"fill: #016e82; stroke: #016e82\"/>\n",
       "     <use xlink:href=\"#m7fe814a7e0\" x=\"156.774915\" y=\"107.862662\" style=\"fill: #016e82; stroke: #016e82\"/>\n",
       "     <use xlink:href=\"#m7fe814a7e0\" x=\"159.818551\" y=\"96.772033\" style=\"fill: #016e82; stroke: #016e82\"/>\n",
       "     <use xlink:href=\"#m7fe814a7e0\" x=\"162.862188\" y=\"85.974128\" style=\"fill: #016e82; stroke: #016e82\"/>\n",
       "     <use xlink:href=\"#m7fe814a7e0\" x=\"165.905824\" y=\"75.591452\" style=\"fill: #016e82; stroke: #016e82\"/>\n",
       "     <use xlink:href=\"#m7fe814a7e0\" x=\"168.94946\" y=\"65.771475\" style=\"fill: #016e82; stroke: #016e82\"/>\n",
       "     <use xlink:href=\"#m7fe814a7e0\" x=\"171.993097\" y=\"56.688059\" style=\"fill: #016e82; stroke: #016e82\"/>\n",
       "     <use xlink:href=\"#m7fe814a7e0\" x=\"175.036733\" y=\"48.5365\" style=\"fill: #016e82; stroke: #016e82\"/>\n",
       "     <use xlink:href=\"#m7fe814a7e0\" x=\"178.080369\" y=\"41.522737\" style=\"fill: #016e82; stroke: #016e82\"/>\n",
       "     <use xlink:href=\"#m7fe814a7e0\" x=\"181.124006\" y=\"35.848268\" style=\"fill: #016e82; stroke: #016e82\"/>\n",
       "     <use xlink:href=\"#m7fe814a7e0\" x=\"184.167642\" y=\"31.693039\" style=\"fill: #016e82; stroke: #016e82\"/>\n",
       "     <use xlink:href=\"#m7fe814a7e0\" x=\"187.211278\" y=\"29.198862\" style=\"fill: #016e82; stroke: #016e82\"/>\n",
       "     <use xlink:href=\"#m7fe814a7e0\" x=\"190.254915\" y=\"28.455773\" style=\"fill: #016e82; stroke: #016e82\"/>\n",
       "     <use xlink:href=\"#m7fe814a7e0\" x=\"193.298551\" y=\"29.4932\" style=\"fill: #016e82; stroke: #016e82\"/>\n",
       "     <use xlink:href=\"#m7fe814a7e0\" x=\"196.342188\" y=\"32.277016\" style=\"fill: #016e82; stroke: #016e82\"/>\n",
       "     <use xlink:href=\"#m7fe814a7e0\" x=\"199.385824\" y=\"36.712647\" style=\"fill: #016e82; stroke: #016e82\"/>\n",
       "     <use xlink:href=\"#m7fe814a7e0\" x=\"202.42946\" y=\"42.653563\" style=\"fill: #016e82; stroke: #016e82\"/>\n",
       "     <use xlink:href=\"#m7fe814a7e0\" x=\"205.473097\" y=\"49.913772\" style=\"fill: #016e82; stroke: #016e82\"/>\n",
       "     <use xlink:href=\"#m7fe814a7e0\" x=\"208.516733\" y=\"58.282552\" style=\"fill: #016e82; stroke: #016e82\"/>\n",
       "     <use xlink:href=\"#m7fe814a7e0\" x=\"211.560369\" y=\"67.539435\" style=\"fill: #016e82; stroke: #016e82\"/>\n",
       "     <use xlink:href=\"#m7fe814a7e0\" x=\"214.604006\" y=\"77.467618\" style=\"fill: #016e82; stroke: #016e82\"/>\n",
       "     <use xlink:href=\"#m7fe814a7e0\" x=\"217.647642\" y=\"87.864252\" style=\"fill: #016e82; stroke: #016e82\"/>\n",
       "     <use xlink:href=\"#m7fe814a7e0\" x=\"220.691278\" y=\"98.546573\" style=\"fill: #016e82; stroke: #016e82\"/>\n",
       "     <use xlink:href=\"#m7fe814a7e0\" x=\"223.734915\" y=\"109.353484\" style=\"fill: #016e82; stroke: #016e82\"/>\n",
       "     <use xlink:href=\"#m7fe814a7e0\" x=\"226.778551\" y=\"120.142814\" style=\"fill: #016e82; stroke: #016e82\"/>\n",
       "     <use xlink:href=\"#m7fe814a7e0\" x=\"229.822188\" y=\"130.785188\" style=\"fill: #016e82; stroke: #016e82\"/>\n",
       "     <use xlink:href=\"#m7fe814a7e0\" x=\"232.865824\" y=\"141.155936\" style=\"fill: #016e82; stroke: #016e82\"/>\n",
       "     <use xlink:href=\"#m7fe814a7e0\" x=\"235.90946\" y=\"151.126829\" style=\"fill: #016e82; stroke: #016e82\"/>\n",
       "     <use xlink:href=\"#m7fe814a7e0\" x=\"238.953097\" y=\"160.559481\" style=\"fill: #016e82; stroke: #016e82\"/>\n",
       "     <use xlink:href=\"#m7fe814a7e0\" x=\"241.996733\" y=\"169.302009\" style=\"fill: #016e82; stroke: #016e82\"/>\n",
       "     <use xlink:href=\"#m7fe814a7e0\" x=\"245.040369\" y=\"177.189973\" style=\"fill: #016e82; stroke: #016e82\"/>\n",
       "     <use xlink:href=\"#m7fe814a7e0\" x=\"248.084006\" y=\"184.051878\" style=\"fill: #016e82; stroke: #016e82\"/>\n",
       "     <use xlink:href=\"#m7fe814a7e0\" x=\"251.127642\" y=\"189.718636\" style=\"fill: #016e82; stroke: #016e82\"/>\n",
       "     <use xlink:href=\"#m7fe814a7e0\" x=\"254.171278\" y=\"194.035652\" style=\"fill: #016e82; stroke: #016e82\"/>\n",
       "     <use xlink:href=\"#m7fe814a7e0\" x=\"257.214915\" y=\"196.87565\" style=\"fill: #016e82; stroke: #016e82\"/>\n",
       "     <use xlink:href=\"#m7fe814a7e0\" x=\"260.258551\" y=\"198.150202\" style=\"fill: #016e82; stroke: #016e82\"/>\n",
       "     <use xlink:href=\"#m7fe814a7e0\" x=\"263.302188\" y=\"197.818126\" style=\"fill: #016e82; stroke: #016e82\"/>\n",
       "     <use xlink:href=\"#m7fe814a7e0\" x=\"266.345824\" y=\"195.889478\" style=\"fill: #016e82; stroke: #016e82\"/>\n",
       "     <use xlink:href=\"#m7fe814a7e0\" x=\"269.38946\" y=\"192.42465\" style=\"fill: #016e82; stroke: #016e82\"/>\n",
       "     <use xlink:href=\"#m7fe814a7e0\" x=\"272.433097\" y=\"187.528889\" style=\"fill: #016e82; stroke: #016e82\"/>\n",
       "     <use xlink:href=\"#m7fe814a7e0\" x=\"275.476733\" y=\"181.343289\" style=\"fill: #016e82; stroke: #016e82\"/>\n",
       "     <use xlink:href=\"#m7fe814a7e0\" x=\"278.520369\" y=\"174.033787\" style=\"fill: #016e82; stroke: #016e82\"/>\n",
       "     <use xlink:href=\"#m7fe814a7e0\" x=\"281.564006\" y=\"165.779846\" style=\"fill: #016e82; stroke: #016e82\"/>\n",
       "     <use xlink:href=\"#m7fe814a7e0\" x=\"284.607642\" y=\"156.764413\" style=\"fill: #016e82; stroke: #016e82\"/>\n",
       "     <use xlink:href=\"#m7fe814a7e0\" x=\"287.651278\" y=\"147.166323\" style=\"fill: #016e82; stroke: #016e82\"/>\n",
       "     <use xlink:href=\"#m7fe814a7e0\" x=\"290.694915\" y=\"137.155857\" style=\"fill: #016e82; stroke: #016e82\"/>\n",
       "     <use xlink:href=\"#m7fe814a7e0\" x=\"293.738551\" y=\"126.893545\" style=\"fill: #016e82; stroke: #016e82\"/>\n",
       "     <use xlink:href=\"#m7fe814a7e0\" x=\"296.782188\" y=\"116.531825\" style=\"fill: #016e82; stroke: #016e82\"/>\n",
       "     <use xlink:href=\"#m7fe814a7e0\" x=\"299.825824\" y=\"106.218732\" style=\"fill: #016e82; stroke: #016e82\"/>\n",
       "     <use xlink:href=\"#m7fe814a7e0\" x=\"302.86946\" y=\"96.102529\" style=\"fill: #016e82; stroke: #016e82\"/>\n",
       "     <use xlink:href=\"#m7fe814a7e0\" x=\"305.913097\" y=\"86.336053\" style=\"fill: #016e82; stroke: #016e82\"/>\n",
       "     <use xlink:href=\"#m7fe814a7e0\" x=\"308.956733\" y=\"77.079596\" style=\"fill: #016e82; stroke: #016e82\"/>\n",
       "     <use xlink:href=\"#m7fe814a7e0\" x=\"312.000369\" y=\"68.501358\" style=\"fill: #016e82; stroke: #016e82\"/>\n",
       "     <use xlink:href=\"#m7fe814a7e0\" x=\"315.044006\" y=\"60.774842\" style=\"fill: #016e82; stroke: #016e82\"/>\n",
       "     <use xlink:href=\"#m7fe814a7e0\" x=\"318.087642\" y=\"54.07306\" style=\"fill: #016e82; stroke: #016e82\"/>\n",
       "     <use xlink:href=\"#m7fe814a7e0\" x=\"321.131278\" y=\"48.559983\" style=\"fill: #016e82; stroke: #016e82\"/>\n",
       "     <use xlink:href=\"#m7fe814a7e0\" x=\"324.174915\" y=\"44.380193\" style=\"fill: #016e82; stroke: #016e82\"/>\n",
       "     <use xlink:href=\"#m7fe814a7e0\" x=\"327.218551\" y=\"41.648165\" style=\"fill: #016e82; stroke: #016e82\"/>\n",
       "     <use xlink:href=\"#m7fe814a7e0\" x=\"330.262188\" y=\"40.438803\" style=\"fill: #016e82; stroke: #016e82\"/>\n",
       "     <use xlink:href=\"#m7fe814a7e0\" x=\"333.305824\" y=\"40.780829\" style=\"fill: #016e82; stroke: #016e82\"/>\n",
       "     <use xlink:href=\"#m7fe814a7e0\" x=\"336.34946\" y=\"42.654197\" style=\"fill: #016e82; stroke: #016e82\"/>\n",
       "     <use xlink:href=\"#m7fe814a7e0\" x=\"339.393097\" y=\"45.992138\" style=\"fill: #016e82; stroke: #016e82\"/>\n",
       "     <use xlink:href=\"#m7fe814a7e0\" x=\"342.436733\" y=\"50.687602\" style=\"fill: #016e82; stroke: #016e82\"/>\n",
       "     <use xlink:href=\"#m7fe814a7e0\" x=\"345.480369\" y=\"56.603115\" style=\"fill: #016e82; stroke: #016e82\"/>\n",
       "     <use xlink:href=\"#m7fe814a7e0\" x=\"348.524006\" y=\"63.58246\" style=\"fill: #016e82; stroke: #016e82\"/>\n",
       "    </g>\n",
       "   </g>\n",
       "   <g id=\"line2d_15\">\n",
       "    <defs>\n",
       "     <path id=\"m8ad53b3f79\" d=\"M 0 1.5 \n",
       "C 0.397805 1.5 0.77937 1.341951 1.06066 1.06066 \n",
       "C 1.341951 0.77937 1.5 0.397805 1.5 0 \n",
       "C 1.5 -0.397805 1.341951 -0.77937 1.06066 -1.06066 \n",
       "C 0.77937 -1.341951 0.397805 -1.5 0 -1.5 \n",
       "C -0.397805 -1.5 -0.77937 -1.341951 -1.06066 -1.06066 \n",
       "C -1.341951 -0.77937 -1.5 -0.397805 -1.5 0 \n",
       "C -1.5 0.397805 -1.341951 0.77937 -1.06066 1.06066 \n",
       "C -0.77937 1.341951 -0.397805 1.5 0 1.5 \n",
       "z\n",
       "\" style=\"stroke: #333795\"/>\n",
       "    </defs>\n",
       "    <g clip-path=\"url(#pa8982039d3)\">\n",
       "     <use xlink:href=\"#m8ad53b3f79\" x=\"44.160369\" y=\"17.083636\" style=\"fill: #333795; stroke: #333795\"/>\n",
       "     <use xlink:href=\"#m8ad53b3f79\" x=\"47.204006\" y=\"18.084993\" style=\"fill: #333795; stroke: #333795\"/>\n",
       "     <use xlink:href=\"#m8ad53b3f79\" x=\"50.247642\" y=\"21.049539\" style=\"fill: #333795; stroke: #333795\"/>\n",
       "     <use xlink:href=\"#m8ad53b3f79\" x=\"53.291278\" y=\"25.86259\" style=\"fill: #333795; stroke: #333795\"/>\n",
       "     <use xlink:href=\"#m8ad53b3f79\" x=\"56.334915\" y=\"32.345469\" style=\"fill: #333795; stroke: #333795\"/>\n",
       "     <use xlink:href=\"#m8ad53b3f79\" x=\"59.378551\" y=\"40.272498\" style=\"fill: #333795; stroke: #333795\"/>\n",
       "     <use xlink:href=\"#m8ad53b3f79\" x=\"62.422188\" y=\"49.391574\" style=\"fill: #333795; stroke: #333795\"/>\n",
       "     <use xlink:href=\"#m8ad53b3f79\" x=\"65.465824\" y=\"59.445607\" style=\"fill: #333795; stroke: #333795\"/>\n",
       "     <use xlink:href=\"#m8ad53b3f79\" x=\"68.50946\" y=\"70.191925\" style=\"fill: #333795; stroke: #333795\"/>\n",
       "     <use xlink:href=\"#m8ad53b3f79\" x=\"71.553097\" y=\"81.417037\" style=\"fill: #333795; stroke: #333795\"/>\n",
       "     <use xlink:href=\"#m8ad53b3f79\" x=\"74.596733\" y=\"92.944815\" style=\"fill: #333795; stroke: #333795\"/>\n",
       "     <use xlink:href=\"#m8ad53b3f79\" x=\"77.640369\" y=\"104.637148\" style=\"fill: #333795; stroke: #333795\"/>\n",
       "     <use xlink:href=\"#m8ad53b3f79\" x=\"80.684006\" y=\"116.387337\" style=\"fill: #333795; stroke: #333795\"/>\n",
       "     <use xlink:href=\"#m8ad53b3f79\" x=\"83.727642\" y=\"128.107672\" style=\"fill: #333795; stroke: #333795\"/>\n",
       "     <use xlink:href=\"#m8ad53b3f79\" x=\"86.771278\" y=\"139.713621\" style=\"fill: #333795; stroke: #333795\"/>\n",
       "     <use xlink:href=\"#m8ad53b3f79\" x=\"89.814915\" y=\"151.10764\" style=\"fill: #333795; stroke: #333795\"/>\n",
       "     <use xlink:href=\"#m8ad53b3f79\" x=\"92.858551\" y=\"162.165693\" style=\"fill: #333795; stroke: #333795\"/>\n",
       "     <use xlink:href=\"#m8ad53b3f79\" x=\"95.902188\" y=\"172.729082\" style=\"fill: #333795; stroke: #333795\"/>\n",
       "     <use xlink:href=\"#m8ad53b3f79\" x=\"98.945824\" y=\"182.603301\" style=\"fill: #333795; stroke: #333795\"/>\n",
       "     <use xlink:href=\"#m8ad53b3f79\" x=\"101.98946\" y=\"191.564415\" style=\"fill: #333795; stroke: #333795\"/>\n",
       "     <use xlink:href=\"#m8ad53b3f79\" x=\"105.033097\" y=\"199.372236\" style=\"fill: #333795; stroke: #333795\"/>\n",
       "     <use xlink:href=\"#m8ad53b3f79\" x=\"108.076733\" y=\"205.788442\" style=\"fill: #333795; stroke: #333795\"/>\n",
       "     <use xlink:href=\"#m8ad53b3f79\" x=\"111.120369\" y=\"210.597082\" style=\"fill: #333795; stroke: #333795\"/>\n",
       "     <use xlink:href=\"#m8ad53b3f79\" x=\"114.164006\" y=\"213.624563\" style=\"fill: #333795; stroke: #333795\"/>\n",
       "     <use xlink:href=\"#m8ad53b3f79\" x=\"117.207642\" y=\"214.756364\" style=\"fill: #333795; stroke: #333795\"/>\n",
       "     <use xlink:href=\"#m8ad53b3f79\" x=\"120.251278\" y=\"213.948288\" style=\"fill: #333795; stroke: #333795\"/>\n",
       "     <use xlink:href=\"#m8ad53b3f79\" x=\"123.294915\" y=\"211.230843\" style=\"fill: #333795; stroke: #333795\"/>\n",
       "     <use xlink:href=\"#m8ad53b3f79\" x=\"126.338551\" y=\"206.706323\" style=\"fill: #333795; stroke: #333795\"/>\n",
       "     <use xlink:href=\"#m8ad53b3f79\" x=\"129.382188\" y=\"200.539127\" style=\"fill: #333795; stroke: #333795\"/>\n",
       "     <use xlink:href=\"#m8ad53b3f79\" x=\"132.425824\" y=\"192.940693\" style=\"fill: #333795; stroke: #333795\"/>\n",
       "     <use xlink:href=\"#m8ad53b3f79\" x=\"135.46946\" y=\"184.151083\" style=\"fill: #333795; stroke: #333795\"/>\n",
       "     <use xlink:href=\"#m8ad53b3f79\" x=\"138.513097\" y=\"174.419627\" style=\"fill: #333795; stroke: #333795\"/>\n",
       "     <use xlink:href=\"#m8ad53b3f79\" x=\"141.556733\" y=\"163.987134\" style=\"fill: #333795; stroke: #333795\"/>\n",
       "     <use xlink:href=\"#m8ad53b3f79\" x=\"144.600369\" y=\"153.071904\" style=\"fill: #333795; stroke: #333795\"/>\n",
       "     <use xlink:href=\"#m8ad53b3f79\" x=\"147.644006\" y=\"141.86123\" style=\"fill: #333795; stroke: #333795\"/>\n",
       "     <use xlink:href=\"#m8ad53b3f79\" x=\"150.687642\" y=\"130.509281\" style=\"fill: #333795; stroke: #333795\"/>\n",
       "     <use xlink:href=\"#m8ad53b3f79\" x=\"153.731278\" y=\"119.141243\" style=\"fill: #333795; stroke: #333795\"/>\n",
       "     <use xlink:href=\"#m8ad53b3f79\" x=\"156.774915\" y=\"107.862662\" style=\"fill: #333795; stroke: #333795\"/>\n",
       "     <use xlink:href=\"#m8ad53b3f79\" x=\"159.818551\" y=\"96.772033\" style=\"fill: #333795; stroke: #333795\"/>\n",
       "     <use xlink:href=\"#m8ad53b3f79\" x=\"162.862188\" y=\"85.974128\" style=\"fill: #333795; stroke: #333795\"/>\n",
       "     <use xlink:href=\"#m8ad53b3f79\" x=\"165.905824\" y=\"75.591452\" style=\"fill: #333795; stroke: #333795\"/>\n",
       "     <use xlink:href=\"#m8ad53b3f79\" x=\"168.94946\" y=\"65.771475\" style=\"fill: #333795; stroke: #333795\"/>\n",
       "     <use xlink:href=\"#m8ad53b3f79\" x=\"171.993097\" y=\"56.688059\" style=\"fill: #333795; stroke: #333795\"/>\n",
       "     <use xlink:href=\"#m8ad53b3f79\" x=\"175.036733\" y=\"48.5365\" style=\"fill: #333795; stroke: #333795\"/>\n",
       "     <use xlink:href=\"#m8ad53b3f79\" x=\"178.080369\" y=\"41.522737\" style=\"fill: #333795; stroke: #333795\"/>\n",
       "     <use xlink:href=\"#m8ad53b3f79\" x=\"181.124006\" y=\"35.848268\" style=\"fill: #333795; stroke: #333795\"/>\n",
       "     <use xlink:href=\"#m8ad53b3f79\" x=\"184.167642\" y=\"31.693039\" style=\"fill: #333795; stroke: #333795\"/>\n",
       "     <use xlink:href=\"#m8ad53b3f79\" x=\"187.211278\" y=\"29.198862\" style=\"fill: #333795; stroke: #333795\"/>\n",
       "     <use xlink:href=\"#m8ad53b3f79\" x=\"190.254915\" y=\"28.455773\" style=\"fill: #333795; stroke: #333795\"/>\n",
       "     <use xlink:href=\"#m8ad53b3f79\" x=\"193.298551\" y=\"29.4932\" style=\"fill: #333795; stroke: #333795\"/>\n",
       "     <use xlink:href=\"#m8ad53b3f79\" x=\"196.342188\" y=\"32.277016\" style=\"fill: #333795; stroke: #333795\"/>\n",
       "     <use xlink:href=\"#m8ad53b3f79\" x=\"199.385824\" y=\"36.712647\" style=\"fill: #333795; stroke: #333795\"/>\n",
       "     <use xlink:href=\"#m8ad53b3f79\" x=\"202.42946\" y=\"42.653563\" style=\"fill: #333795; stroke: #333795\"/>\n",
       "     <use xlink:href=\"#m8ad53b3f79\" x=\"205.473097\" y=\"49.913772\" style=\"fill: #333795; stroke: #333795\"/>\n",
       "     <use xlink:href=\"#m8ad53b3f79\" x=\"208.516733\" y=\"58.282552\" style=\"fill: #333795; stroke: #333795\"/>\n",
       "     <use xlink:href=\"#m8ad53b3f79\" x=\"211.560369\" y=\"67.539435\" style=\"fill: #333795; stroke: #333795\"/>\n",
       "     <use xlink:href=\"#m8ad53b3f79\" x=\"214.604006\" y=\"77.467618\" style=\"fill: #333795; stroke: #333795\"/>\n",
       "     <use xlink:href=\"#m8ad53b3f79\" x=\"217.647642\" y=\"87.864252\" style=\"fill: #333795; stroke: #333795\"/>\n",
       "     <use xlink:href=\"#m8ad53b3f79\" x=\"220.691278\" y=\"98.546573\" style=\"fill: #333795; stroke: #333795\"/>\n",
       "     <use xlink:href=\"#m8ad53b3f79\" x=\"223.734915\" y=\"109.353484\" style=\"fill: #333795; stroke: #333795\"/>\n",
       "     <use xlink:href=\"#m8ad53b3f79\" x=\"226.778551\" y=\"120.142814\" style=\"fill: #333795; stroke: #333795\"/>\n",
       "     <use xlink:href=\"#m8ad53b3f79\" x=\"229.822188\" y=\"130.785188\" style=\"fill: #333795; stroke: #333795\"/>\n",
       "     <use xlink:href=\"#m8ad53b3f79\" x=\"232.865824\" y=\"141.155936\" style=\"fill: #333795; stroke: #333795\"/>\n",
       "     <use xlink:href=\"#m8ad53b3f79\" x=\"235.90946\" y=\"151.126829\" style=\"fill: #333795; stroke: #333795\"/>\n",
       "     <use xlink:href=\"#m8ad53b3f79\" x=\"238.953097\" y=\"160.559481\" style=\"fill: #333795; stroke: #333795\"/>\n",
       "     <use xlink:href=\"#m8ad53b3f79\" x=\"241.996733\" y=\"169.302009\" style=\"fill: #333795; stroke: #333795\"/>\n",
       "     <use xlink:href=\"#m8ad53b3f79\" x=\"245.040369\" y=\"177.189973\" style=\"fill: #333795; stroke: #333795\"/>\n",
       "     <use xlink:href=\"#m8ad53b3f79\" x=\"248.084006\" y=\"184.051878\" style=\"fill: #333795; stroke: #333795\"/>\n",
       "     <use xlink:href=\"#m8ad53b3f79\" x=\"251.127642\" y=\"189.718636\" style=\"fill: #333795; stroke: #333795\"/>\n",
       "     <use xlink:href=\"#m8ad53b3f79\" x=\"254.171278\" y=\"194.035652\" style=\"fill: #333795; stroke: #333795\"/>\n",
       "     <use xlink:href=\"#m8ad53b3f79\" x=\"257.214915\" y=\"196.87565\" style=\"fill: #333795; stroke: #333795\"/>\n",
       "     <use xlink:href=\"#m8ad53b3f79\" x=\"260.258551\" y=\"198.150202\" style=\"fill: #333795; stroke: #333795\"/>\n",
       "     <use xlink:href=\"#m8ad53b3f79\" x=\"263.302188\" y=\"197.818126\" style=\"fill: #333795; stroke: #333795\"/>\n",
       "     <use xlink:href=\"#m8ad53b3f79\" x=\"266.345824\" y=\"195.889478\" style=\"fill: #333795; stroke: #333795\"/>\n",
       "     <use xlink:href=\"#m8ad53b3f79\" x=\"269.38946\" y=\"192.42465\" style=\"fill: #333795; stroke: #333795\"/>\n",
       "     <use xlink:href=\"#m8ad53b3f79\" x=\"272.433097\" y=\"187.528889\" style=\"fill: #333795; stroke: #333795\"/>\n",
       "     <use xlink:href=\"#m8ad53b3f79\" x=\"275.476733\" y=\"181.343289\" style=\"fill: #333795; stroke: #333795\"/>\n",
       "     <use xlink:href=\"#m8ad53b3f79\" x=\"278.520369\" y=\"174.033787\" style=\"fill: #333795; stroke: #333795\"/>\n",
       "     <use xlink:href=\"#m8ad53b3f79\" x=\"281.564006\" y=\"165.779846\" style=\"fill: #333795; stroke: #333795\"/>\n",
       "     <use xlink:href=\"#m8ad53b3f79\" x=\"284.607642\" y=\"156.764413\" style=\"fill: #333795; stroke: #333795\"/>\n",
       "     <use xlink:href=\"#m8ad53b3f79\" x=\"287.651278\" y=\"147.166323\" style=\"fill: #333795; stroke: #333795\"/>\n",
       "     <use xlink:href=\"#m8ad53b3f79\" x=\"290.694915\" y=\"137.155857\" style=\"fill: #333795; stroke: #333795\"/>\n",
       "     <use xlink:href=\"#m8ad53b3f79\" x=\"293.738551\" y=\"126.893545\" style=\"fill: #333795; stroke: #333795\"/>\n",
       "     <use xlink:href=\"#m8ad53b3f79\" x=\"296.782188\" y=\"116.531825\" style=\"fill: #333795; stroke: #333795\"/>\n",
       "     <use xlink:href=\"#m8ad53b3f79\" x=\"299.825824\" y=\"106.218732\" style=\"fill: #333795; stroke: #333795\"/>\n",
       "     <use xlink:href=\"#m8ad53b3f79\" x=\"302.86946\" y=\"96.102529\" style=\"fill: #333795; stroke: #333795\"/>\n",
       "     <use xlink:href=\"#m8ad53b3f79\" x=\"305.913097\" y=\"86.336053\" style=\"fill: #333795; stroke: #333795\"/>\n",
       "     <use xlink:href=\"#m8ad53b3f79\" x=\"308.956733\" y=\"77.079596\" style=\"fill: #333795; stroke: #333795\"/>\n",
       "     <use xlink:href=\"#m8ad53b3f79\" x=\"312.000369\" y=\"68.501358\" style=\"fill: #333795; stroke: #333795\"/>\n",
       "     <use xlink:href=\"#m8ad53b3f79\" x=\"315.044006\" y=\"60.774842\" style=\"fill: #333795; stroke: #333795\"/>\n",
       "     <use xlink:href=\"#m8ad53b3f79\" x=\"318.087642\" y=\"54.07306\" style=\"fill: #333795; stroke: #333795\"/>\n",
       "     <use xlink:href=\"#m8ad53b3f79\" x=\"321.131278\" y=\"48.559983\" style=\"fill: #333795; stroke: #333795\"/>\n",
       "     <use xlink:href=\"#m8ad53b3f79\" x=\"324.174915\" y=\"44.380193\" style=\"fill: #333795; stroke: #333795\"/>\n",
       "     <use xlink:href=\"#m8ad53b3f79\" x=\"327.218551\" y=\"41.648165\" style=\"fill: #333795; stroke: #333795\"/>\n",
       "     <use xlink:href=\"#m8ad53b3f79\" x=\"330.262188\" y=\"40.438803\" style=\"fill: #333795; stroke: #333795\"/>\n",
       "     <use xlink:href=\"#m8ad53b3f79\" x=\"333.305824\" y=\"40.780829\" style=\"fill: #333795; stroke: #333795\"/>\n",
       "     <use xlink:href=\"#m8ad53b3f79\" x=\"336.34946\" y=\"42.654197\" style=\"fill: #333795; stroke: #333795\"/>\n",
       "     <use xlink:href=\"#m8ad53b3f79\" x=\"339.393097\" y=\"45.992138\" style=\"fill: #333795; stroke: #333795\"/>\n",
       "     <use xlink:href=\"#m8ad53b3f79\" x=\"342.436733\" y=\"50.687602\" style=\"fill: #333795; stroke: #333795\"/>\n",
       "     <use xlink:href=\"#m8ad53b3f79\" x=\"345.480369\" y=\"56.603115\" style=\"fill: #333795; stroke: #333795\"/>\n",
       "     <use xlink:href=\"#m8ad53b3f79\" x=\"348.524006\" y=\"63.58246\" style=\"fill: #333795; stroke: #333795\"/>\n",
       "    </g>\n",
       "   </g>\n",
       "   <g id=\"patch_3\">\n",
       "    <path d=\"M 28.942188 224.64 \n",
       "L 28.942188 7.2 \n",
       "\" style=\"fill: none; stroke: #000000; stroke-width: 0.8; stroke-linejoin: miter; stroke-linecap: square\"/>\n",
       "   </g>\n",
       "   <g id=\"patch_4\">\n",
       "    <path d=\"M 363.742188 224.64 \n",
       "L 363.742188 7.2 \n",
       "\" style=\"fill: none; stroke: #000000; stroke-width: 0.8; stroke-linejoin: miter; stroke-linecap: square\"/>\n",
       "   </g>\n",
       "   <g id=\"patch_5\">\n",
       "    <path d=\"M 28.942188 224.64 \n",
       "L 363.742188 224.64 \n",
       "\" style=\"fill: none; stroke: #000000; stroke-width: 0.8; stroke-linejoin: miter; stroke-linecap: square\"/>\n",
       "   </g>\n",
       "   <g id=\"patch_6\">\n",
       "    <path d=\"M 28.942188 7.2 \n",
       "L 363.742188 7.2 \n",
       "\" style=\"fill: none; stroke: #000000; stroke-width: 0.8; stroke-linejoin: miter; stroke-linecap: square\"/>\n",
       "   </g>\n",
       "  </g>\n",
       " </g>\n",
       " <defs>\n",
       "  <clipPath id=\"pa8982039d3\">\n",
       "   <rect x=\"28.942188\" y=\"7.2\" width=\"334.8\" height=\"217.44\"/>\n",
       "  </clipPath>\n",
       " </defs>\n",
       "</svg>\n"
      ],
      "text/plain": [
       "<Figure size 432x288 with 1 Axes>"
      ]
     },
     "metadata": {
      "needs_background": "light"
     },
     "output_type": "display_data"
    }
   ],
   "source": [
    "plt.plot(tlist,scan,'.')"
   ]
  },
  {
   "cell_type": "code",
   "execution_count": null,
   "metadata": {
    "pycharm": {
     "name": "#%%\n"
    }
   },
   "outputs": [],
   "source": []
  }
 ],
 "metadata": {
  "kernelspec": {
   "display_name": "Python 3 (ipykernel)",
   "language": "python",
   "name": "python3"
  },
  "language_info": {
   "codemirror_mode": {
    "name": "ipython",
    "version": 3
   },
   "file_extension": ".py",
   "mimetype": "text/x-python",
   "name": "python",
   "nbconvert_exporter": "python",
   "pygments_lexer": "ipython3",
   "version": "3.10.5"
  }
 },
 "nbformat": 4,
 "nbformat_minor": 4
}