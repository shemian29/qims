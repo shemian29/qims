{
 "cells": [
  {
   "cell_type": "code",
   "execution_count": null,
   "metadata": {
    "collapsed": true,
    "jupyter": {
     "outputs_hidden": true
    },
    "pycharm": {
     "name": "#%%\n"
    }
   },
   "outputs": [],
   "source": []
  },
  {
   "cell_type": "code",
   "execution_count": null,
   "metadata": {
    "collapsed": false,
    "jupyter": {
     "outputs_hidden": false
    },
    "pycharm": {
     "name": "#%%\n"
    }
   },
   "outputs": [],
   "source": []
  },
  {
   "cell_type": "code",
   "execution_count": 1,
   "metadata": {
    "collapsed": false,
    "jupyter": {
     "outputs_hidden": false
    },
    "pycharm": {
     "name": "#%%\n"
    }
   },
   "outputs": [],
   "source": [
    "from tqdm.notebook import tqdm\n",
    "import qutip as qt\n",
    "import numpy as np\n",
    "from importlib import reload\n",
    "import scipy.sparse\n",
    "\n",
    "import qims as qims\n",
    "from matplotlib import pyplot as plt\n"
   ]
  },
  {
   "cell_type": "code",
   "execution_count": 49,
   "metadata": {
    "collapsed": false,
    "jupyter": {
     "outputs_hidden": false
    },
    "pycharm": {
     "name": "#%%\n"
    }
   },
   "outputs": [
    {
     "name": "stdout",
     "output_type": "stream",
     "text": [
      "CPU times: user 2.84 s, sys: 874 ms, total: 3.72 s\n",
      "Wall time: 3.71 s\n"
     ]
    }
   ],
   "source": [
    "Nx= 26;\n",
    "%time test=[r for r in range(2 ** Nx)]"
   ]
  },
  {
   "cell_type": "code",
   "execution_count": 107,
   "metadata": {
    "collapsed": false,
    "jupyter": {
     "outputs_hidden": false
    },
    "pycharm": {
     "name": "#%%\n"
    }
   },
   "outputs": [
    {
     "name": "stdout",
     "output_type": "stream",
     "text": [
      "10.0%. Run time:   0.23s. Est. time left: 00:00:00:02\n",
      "20.0%. Run time:   0.24s. Est. time left: 00:00:00:00\n",
      "30.0%. Run time:   0.24s. Est. time left: 00:00:00:00\n",
      "40.0%. Run time:   0.24s. Est. time left: 00:00:00:00\n",
      "50.0%. Run time:   0.24s. Est. time left: 00:00:00:00\n",
      "60.0%. Run time:   0.24s. Est. time left: 00:00:00:00\n",
      "70.0%. Run time:   0.24s. Est. time left: 00:00:00:00\n",
      "80.0%. Run time:   0.24s. Est. time left: 00:00:00:00\n",
      "90.0%. Run time:   0.24s. Est. time left: 00:00:00:00\n",
      "100.0%. Run time:   0.24s. Est. time left: 00:00:00:00\n",
      "Total run time:   0.34s\n"
     ]
    },
    {
     "data": {
      "text/plain": [
       "[10, 10, 10, 10, 10, 10, 10, 10, 10, 10]"
      ]
     },
     "execution_count": 107,
     "metadata": {},
     "output_type": "execute_result"
    }
   ],
   "source": [
    "def func1(x, Z): return Z\n",
    "\n",
    "# %time a, b, c = qt.parfor(func1, range(10),Z=20)\n",
    "qt.parallel_map(func1, range(10), task_kwargs={'Z':10},progress_bar=True)\n"
   ]
  },
  {
   "cell_type": "code",
   "execution_count": null,
   "metadata": {
    "collapsed": false,
    "jupyter": {
     "outputs_hidden": false
    },
    "pycharm": {
     "name": "#%%\n"
    }
   },
   "outputs": [],
   "source": [
    "Nx = 6\n",
    "Basis = []\n",
    "def F(prms):\n",
    "\n",
    "    st = qmb.ind2state(prms[0], prms[1])\n",
    "    inds = np.dot(st, np.roll(st, 1))\n",
    "    if inds == 0.0:\n",
    "        return r\n",
    "    else:\n",
    "        return -1\n",
    "\n",
    "\n",
    "%time test = qt.parfor(F, range(2 ** Nx))"
   ]
  },
  {
   "cell_type": "code",
   "execution_count": 37,
   "metadata": {
    "collapsed": false,
    "jupyter": {
     "outputs_hidden": false
    },
    "pycharm": {
     "name": "#%%\n"
    }
   },
   "outputs": [
    {
     "data": {
      "text/plain": [
       "array([ 0,  1,  2,  4,  5,  8,  9, 10, 16, 17, 18, 20, 21, 32, 34, 36, 40,\n",
       "       42])"
      ]
     },
     "execution_count": 37,
     "metadata": {},
     "output_type": "execute_result"
    }
   ],
   "source": [
    "np.array([bs[r] for r in range(len(bs))])"
   ]
  },
  {
   "cell_type": "code",
   "execution_count": 31,
   "metadata": {
    "collapsed": false,
    "jupyter": {
     "outputs_hidden": false
    },
    "pycharm": {
     "name": "#%%\n"
    }
   },
   "outputs": [
    {
     "data": {
      "application/vnd.jupyter.widget-view+json": {
       "model_id": "9e8037190c1740cbb5afa7b60710092c",
       "version_major": 2,
       "version_minor": 0
      },
      "text/plain": [
       "  0%|          | 0/64 [00:00<?, ?it/s]"
      ]
     },
     "metadata": {},
     "output_type": "display_data"
    },
    {
     "name": "stdout",
     "output_type": "stream",
     "text": [
      "CPU times: user 16.2 ms, sys: 9.8 ms, total: 26 ms\n",
      "Wall time: 21.8 ms\n"
     ]
    }
   ],
   "source": [
    "%time bs, bs_ind = qmb.basis(Nx)"
   ]
  },
  {
   "cell_type": "markdown",
   "metadata": {
    "pycharm": {
     "name": "#%% md\n"
    }
   },
   "source": [
    "# Translational invariance"
   ]
  },
  {
   "cell_type": "markdown",
   "metadata": {
    "pycharm": {
     "name": "#%% md\n"
    }
   },
   "source": [
    "(07/15/22)"
   ]
  },
  {
   "cell_type": "code",
   "execution_count": 4,
   "metadata": {
    "collapsed": false,
    "jupyter": {
     "outputs_hidden": false
    },
    "pycharm": {
     "name": "#%%\n"
    }
   },
   "outputs": [
    {
     "data": {
      "application/vnd.jupyter.widget-view+json": {
       "model_id": "8c40875753214d669194c4553cf1cd1e",
       "version_major": 2,
       "version_minor": 0
      },
      "text/plain": [
       "  0%|          | 0/256 [00:00<?, ?it/s]"
      ]
     },
     "metadata": {},
     "output_type": "display_data"
    },
    {
     "name": "stdout",
     "output_type": "stream",
     "text": [
      "CPU times: user 31.8 ms, sys: 0 ns, total: 31.8 ms\n",
      "Wall time: 27.6 ms\n"
     ]
    },
    {
     "data": {
      "application/vnd.jupyter.widget-view+json": {
       "model_id": "008a7e1c78c141d3b4078f6dc6e8210d",
       "version_major": 2,
       "version_minor": 0
      },
      "text/plain": [
       "  0%|          | 0/8 [00:00<?, ?it/s]"
      ]
     },
     "metadata": {},
     "output_type": "display_data"
    },
    {
     "name": "stdout",
     "output_type": "stream",
     "text": [
      "CPU times: user 28.9 ms, sys: 3.42 ms, total: 32.3 ms\n",
      "Wall time: 30.1 ms\n",
      "CPU times: user 4.67 ms, sys: 132 µs, total: 4.8 ms\n",
      "Wall time: 4.17 ms\n"
     ]
    }
   ],
   "source": [
    "reload(qmb)\n",
    "Nx = 8\n",
    "%time bs, bs_ind = qmb.basis(Nx)\n",
    "%time H = qmb.pxp_hamiltonian(bs,bs_ind,Nx)\n",
    "%time vbs = qmb.GenerateMomentumBasis(Nx,bs)\n",
    "\n",
    "Trn = 0\n",
    "for n in range(len(vbs)):\n",
    "    inds = list(map(bs_ind.get, vbs[n]))\n",
    "    row = inds\n",
    "    col = np.roll(inds,1)\n",
    "    data = np.ones(len(np.roll(inds,1)))\n",
    "\n",
    "    Trn = Trn + scipy.sparse.csr_matrix((data, (row, col)), shape=(len(bs),\\\n",
    "                                                                  len(bs))).T\n",
    "Trn = qt.Qobj(Trn)"
   ]
  },
  {
   "cell_type": "code",
   "execution_count": 5,
   "metadata": {
    "collapsed": false,
    "jupyter": {
     "outputs_hidden": false
    },
    "pycharm": {
     "name": "#%%\n"
    }
   },
   "outputs": [
    {
     "data": {
      "text/plain": [
       "0.0"
      ]
     },
     "execution_count": 5,
     "metadata": {},
     "output_type": "execute_result"
    }
   ],
   "source": [
    "np.sum(np.abs((Trn*H-H*Trn).full()))"
   ]
  },
  {
   "cell_type": "markdown",
   "metadata": {
    "pycharm": {
     "name": "#%% md\n"
    }
   },
   "source": [
    "# Check that full and momentum Hamiltonians produce the same spectra"
   ]
  },
  {
   "cell_type": "code",
   "execution_count": 7,
   "metadata": {
    "collapsed": false,
    "jupyter": {
     "outputs_hidden": false
    },
    "pycharm": {
     "name": "#%%\n"
    }
   },
   "outputs": [
    {
     "data": {
      "application/vnd.jupyter.widget-view+json": {
       "model_id": "879385a3c600491dade2a89e8994fea4",
       "version_major": 2,
       "version_minor": 0
      },
      "text/plain": [
       "  0%|          | 0/8 [00:00<?, ?it/s]"
      ]
     },
     "metadata": {},
     "output_type": "display_data"
    },
    {
     "data": {
      "application/vnd.jupyter.widget-view+json": {
       "model_id": "072c08a923054fd5a9f731a5bed350e5",
       "version_major": 2,
       "version_minor": 0
      },
      "text/plain": [
       "  0%|          | 0/8 [00:00<?, ?it/s]"
      ]
     },
     "metadata": {},
     "output_type": "display_data"
    },
    {
     "data": {
      "application/vnd.jupyter.widget-view+json": {
       "model_id": "76ea12312b374c23b857283ccc80dd42",
       "version_major": 2,
       "version_minor": 0
      },
      "text/plain": [
       "  0%|          | 0/8 [00:00<?, ?it/s]"
      ]
     },
     "metadata": {},
     "output_type": "display_data"
    },
    {
     "data": {
      "text/plain": [
       "1.8567547639657043e-13"
      ]
     },
     "execution_count": 8,
     "metadata": {},
     "output_type": "execute_result"
    }
   ],
   "source": [
    "k_list = np.arange(0,Nx)/Nx\n",
    "\n",
    "scan = {}\n",
    "for kk in k_list:\n",
    "    scan[kk] = []\n",
    "\n",
    "for n in tqdm(range(len(vbs))):\n",
    "\n",
    "    ktemp_list = np.arange(0,len(vbs[n]))/len(vbs[n])\n",
    "    inds = list(map(bs_ind.get, vbs[n]))\n",
    "\n",
    "    for kk in ktemp_list:\n",
    "        phs = np.exp(-2*np.pi*kk*1j*np.arange(0,len(inds)))/np.sqrt(len(inds))\n",
    "        scan[kk].append([inds,phs])\n",
    "\n",
    "\n",
    "U = {}\n",
    "for kk in tqdm(k_list):\n",
    "    # print('---------------------------')\n",
    "    U[kk] = 0\n",
    "    for n in range(len(scan[kk])):\n",
    "        row = n*np.ones(len(scan[kk][n][0]))\n",
    "        col = np.array(scan[kk][n][0])\n",
    "        data = np.array(scan[kk][n][1])\n",
    "\n",
    "        U[kk] = U[kk] + scipy.sparse.csr_matrix((data, (row, col)), shape=(len(scan[kk]),\\\n",
    "                                                                      len(bs))).T\n",
    "        # print(qt.Qobj(U[kk]))\n",
    "\n",
    "\n",
    "Hs = {}\n",
    "scan = []\n",
    "for k in tqdm(k_list):\n",
    "    Hs[k]=(qt.Qobj(U[k]).dag()*H*qt.Qobj(U[k]))\n",
    "    scan.append(Hs[k].eigenstates()[0])\n",
    "scan = [x for xs in scan for x in xs]\n",
    "\n",
    "de = H.eigenenergies()-np.sort(scan)\n",
    "np.sum(np.abs(de))"
   ]
  },
  {
   "cell_type": "markdown",
   "metadata": {
    "pycharm": {
     "name": "#%% md\n"
    }
   },
   "source": [
    "# Periodic and open boundary conditions"
   ]
  },
  {
   "cell_type": "markdown",
   "metadata": {
    "pycharm": {
     "name": "#%% md\n"
    }
   },
   "source": [
    "(07/15/22)"
   ]
  },
  {
   "cell_type": "code",
   "execution_count": 2,
   "metadata": {
    "collapsed": false,
    "jupyter": {
     "outputs_hidden": false
    },
    "pycharm": {
     "name": "#%%\n"
    }
   },
   "outputs": [
    {
     "data": {
      "application/vnd.jupyter.widget-view+json": {
       "model_id": "06b685da62f24267a26376e3d7dba83f",
       "version_major": 2,
       "version_minor": 0
      },
      "text/plain": [
       "  0%|          | 0/64 [00:00<?, ?it/s]"
      ]
     },
     "metadata": {},
     "output_type": "display_data"
    },
    {
     "name": "stdout",
     "output_type": "stream",
     "text": [
      "18\n"
     ]
    },
    {
     "data": {
      "text/plain": [
       "[array([0, 0, 0, 0, 0, 0]),\n",
       " array([0, 0, 0, 0, 0, 1]),\n",
       " array([0, 0, 0, 0, 1, 0]),\n",
       " array([0, 0, 0, 1, 0, 0]),\n",
       " array([0, 0, 0, 1, 0, 1]),\n",
       " array([0, 0, 1, 0, 0, 0]),\n",
       " array([0, 0, 1, 0, 0, 1]),\n",
       " array([0, 0, 1, 0, 1, 0]),\n",
       " array([0, 1, 0, 0, 0, 0]),\n",
       " array([0, 1, 0, 0, 0, 1]),\n",
       " array([0, 1, 0, 0, 1, 0]),\n",
       " array([0, 1, 0, 1, 0, 0]),\n",
       " array([0, 1, 0, 1, 0, 1]),\n",
       " array([1, 0, 0, 0, 0, 0]),\n",
       " array([1, 0, 0, 0, 1, 0]),\n",
       " array([1, 0, 0, 1, 0, 0]),\n",
       " array([1, 0, 1, 0, 0, 0]),\n",
       " array([1, 0, 1, 0, 1, 0])]"
      ]
     },
     "execution_count": 2,
     "metadata": {},
     "output_type": "execute_result"
    }
   ],
   "source": [
    "bs = qmb.basis(6, bc = \"periodic\")[0]\n",
    "print(len(bs))\n",
    "[qmb.ind2state(bs[r],6) for r in range(len(bs))]"
   ]
  },
  {
   "cell_type": "code",
   "execution_count": 3,
   "metadata": {
    "collapsed": false,
    "jupyter": {
     "outputs_hidden": false
    },
    "pycharm": {
     "name": "#%%\n"
    }
   },
   "outputs": [
    {
     "data": {
      "application/vnd.jupyter.widget-view+json": {
       "model_id": "6fdbaa1870f6421da5d2462fd690af80",
       "version_major": 2,
       "version_minor": 0
      },
      "text/plain": [
       "  0%|          | 0/64 [00:00<?, ?it/s]"
      ]
     },
     "metadata": {},
     "output_type": "display_data"
    },
    {
     "name": "stdout",
     "output_type": "stream",
     "text": [
      "21\n"
     ]
    },
    {
     "data": {
      "text/plain": [
       "[array([0, 0, 0, 0, 0, 0]),\n",
       " array([0, 0, 0, 0, 0, 1]),\n",
       " array([0, 0, 0, 0, 1, 0]),\n",
       " array([0, 0, 0, 1, 0, 0]),\n",
       " array([0, 0, 0, 1, 0, 1]),\n",
       " array([0, 0, 1, 0, 0, 0]),\n",
       " array([0, 0, 1, 0, 0, 1]),\n",
       " array([0, 0, 1, 0, 1, 0]),\n",
       " array([0, 1, 0, 0, 0, 0]),\n",
       " array([0, 1, 0, 0, 0, 1]),\n",
       " array([0, 1, 0, 0, 1, 0]),\n",
       " array([0, 1, 0, 1, 0, 0]),\n",
       " array([0, 1, 0, 1, 0, 1]),\n",
       " array([1, 0, 0, 0, 0, 0]),\n",
       " array([1, 0, 0, 0, 0, 1]),\n",
       " array([1, 0, 0, 0, 1, 0]),\n",
       " array([1, 0, 0, 1, 0, 0]),\n",
       " array([1, 0, 0, 1, 0, 1]),\n",
       " array([1, 0, 1, 0, 0, 0]),\n",
       " array([1, 0, 1, 0, 0, 1]),\n",
       " array([1, 0, 1, 0, 1, 0])]"
      ]
     },
     "execution_count": 3,
     "metadata": {},
     "output_type": "execute_result"
    }
   ],
   "source": [
    "bs = qmb.basis(6, bc = \"open\")[0]\n",
    "print(len(bs))\n",
    "[qmb.ind2state(bs[r],6) for r in range(len(bs))]"
   ]
  },
  {
   "cell_type": "code",
   "execution_count": null,
   "metadata": {
    "collapsed": false,
    "jupyter": {
     "outputs_hidden": false
    },
    "pycharm": {
     "name": "#%%\n"
    }
   },
   "outputs": [],
   "source": []
  }
 ],
 "metadata": {
  "kernelspec": {
   "display_name": "Python 3 (ipykernel)",
   "language": "python",
   "name": "python3"
  },
  "language_info": {
   "codemirror_mode": {
    "name": "ipython",
    "version": 3
   },
   "file_extension": ".py",
   "mimetype": "text/x-python",
   "name": "python",
   "nbconvert_exporter": "python",
   "pygments_lexer": "ipython3",
   "version": "3.10.5"
  }
 },
 "nbformat": 4,
 "nbformat_minor": 4
}
